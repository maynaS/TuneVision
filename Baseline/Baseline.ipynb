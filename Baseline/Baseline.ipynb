{
 "cells": [
  {
   "cell_type": "code",
   "execution_count": 1,
   "metadata": {},
   "outputs": [
    {
     "name": "stderr",
     "output_type": "stream",
     "text": [
      "2023-11-18 00:09:36.142146: I tensorflow/core/platform/cpu_feature_guard.cc:182] This TensorFlow binary is optimized to use available CPU instructions in performance-critical operations.\n",
      "To enable the following instructions: SSE4.1 SSE4.2 AVX AVX2 FMA, in other operations, rebuild TensorFlow with the appropriate compiler flags.\n"
     ]
    }
   ],
   "source": [
    "import pandas as pd\n",
    "from sklearn import preprocessing\n",
    "from sklearn.decomposition import PCA\n",
    "from sklearn.utils import shuffle\n",
    "import seaborn as sns\n",
    "import matplotlib.pyplot as plt\n",
    "\n",
    "from sklearn.neighbors import KNeighborsClassifier\n",
    "from sklearn.model_selection import train_test_split\n",
    "from sklearn.metrics import confusion_matrix, accuracy_score\n",
    "from sklearn.naive_bayes import GaussianNB\n",
    "from sklearn.linear_model import SGDClassifier, LogisticRegression\n",
    "from sklearn.neighbors import KNeighborsClassifier\n",
    "from sklearn.tree import DecisionTreeClassifier\n",
    "from sklearn.ensemble import RandomForestClassifier\n",
    "from sklearn.svm import SVC\n",
    "from sklearn.neural_network import MLPClassifier\n",
    "from xgboost import XGBClassifier, XGBRFClassifier\n",
    "\n",
    "import librosa\n",
    "import librosa.display\n",
    "import os\n",
    "import logging\n",
    "import json\n",
    "import numpy as np\n",
    "import csv\n",
    "from tqdm import tqdm\n",
    "import torch\n",
    "import time\n",
    "import torchvision\n",
    "import torchvision.transforms as transforms\n",
    "import torch.optim as optim\n",
    "import torch.nn as nn\n",
    "import torch.nn.functional as F\n",
    "import soundfile as sf\n",
    "from torchvision import datasets\n",
    "from math import floor, ceil\n",
    "\n",
    "import tensorflow as tf\n",
    "import tensorflow.keras as keras\n",
    "from tensorflow.keras import Sequential\n",
    "from tensorflow.keras import layers\n",
    "from tensorflow.keras.layers import Conv2D, BatchNormalization, Dropout, Flatten, MaxPooling2D, Input, Activation\n",
    "\n",
    "\n",
    "import warnings\n",
    "warnings.filterwarnings(\"ignore\")\n",
    "logging.disable(logging.WARNING)\n",
    "tf.get_logger().setLevel(logging.ERROR)\n",
    "os.environ['TF_CPP_MIN_LOG_LEVEL'] = '2' "
   ]
  },
  {
   "cell_type": "code",
   "execution_count": 2,
   "metadata": {},
   "outputs": [
    {
     "name": "stdout",
     "output_type": "stream",
     "text": [
      "2.1.0\n"
     ]
    }
   ],
   "source": [
    "import torch\n",
    "print(torch.__version__)\n",
    "%matplotlib inline"
   ]
  },
  {
   "cell_type": "code",
   "execution_count": 28,
   "metadata": {},
   "outputs": [],
   "source": [
    "path = \"../Data\""
   ]
  },
  {
   "cell_type": "markdown",
   "metadata": {},
   "source": [
    "### Baseline Model"
   ]
  },
  {
   "cell_type": "markdown",
   "metadata": {},
   "source": [
    "#### 1. 3 Second Model"
   ]
  },
  {
   "cell_type": "code",
   "execution_count": 26,
   "metadata": {},
   "outputs": [],
   "source": [
    "def load_data(filename):\n",
    "    \"\"\"\n",
    "    Load the dataset and return features and labels.\n",
    "    \"\"\"\n",
    "    df = pd.read_csv(filename)\n",
    "\n",
    "    # Extract genre list and encode labels\n",
    "    genre_list = df.iloc[:, -1]\n",
    "    encoder = preprocessing.LabelEncoder()\n",
    "    df = df.iloc[0:, 1:]\n",
    "\n",
    "    y = encoder.fit_transform(genre_list)\n",
    "\n",
    "    # Extract features and remove 'label' column\n",
    "    X = df.loc[:, df.columns != 'label']\n",
    "    return X, y\n",
    "\n",
    "def normalize_data(X):\n",
    "    \"\"\"\n",
    "    Normalize the feature matrix X using Min-Max scaling.\n",
    "    \"\"\"\n",
    "    min_max_scaler = preprocessing.MinMaxScaler()\n",
    "    np_scaled = min_max_scaler.fit_transform(X)\n",
    "    return pd.DataFrame(np_scaled, columns=X.columns)\n"
   ]
  },
  {
   "cell_type": "code",
   "execution_count": 33,
   "metadata": {},
   "outputs": [],
   "source": [
    "def model_assess(X_train, y_train, X_test, y_test, model, title = \"Default\"):\n",
    "    model.fit(X_train, y_train)\n",
    "    preds = model.predict(X_test.values)\n",
    "    print('Accuracy', title, ':', round(accuracy_score(y_test, preds), 5))"
   ]
  },
  {
   "cell_type": "code",
   "execution_count": null,
   "metadata": {},
   "outputs": [],
   "source": [
    "# Load and normalize training data\n",
    "X_train, y_train = load_data(f'{path}/train_features_3_sec.csv')\n",
    "X_train = normalize_data(X_train)\n",
    "\n",
    "# Load and normalize validation data\n",
    "X_val, y_val = load_data(f'{path}/val_features_3_sec.csv')\n",
    "X_val = normalize_data(X_val)\n",
    "\n",
    "# Load and normalize test data\n",
    "X_test, y_test = load_data(f'{path}/test_features_3_sec.csv')\n",
    "X_test = normalize_data(X_test)"
   ]
  },
  {
   "cell_type": "code",
   "execution_count": 6,
   "metadata": {},
   "outputs": [],
   "source": [
    "X_train = pd.concat([X_train, X_val], ignore_index=True)\n",
    "y_train = np.concatenate((y_train, y_val), axis=0)"
   ]
  },
  {
   "cell_type": "code",
   "execution_count": 18,
   "metadata": {},
   "outputs": [],
   "source": [
    "# Create a list of models and their titles\n",
    "models = [\n",
    "    (GaussianNB(), \"Naive Bayes\"),\n",
    "    (SGDClassifier(max_iter=5000, random_state=0), \"Stochastic Gradient Descent\"),\n",
    "    (DecisionTreeClassifier(), \"Decision trees\"),\n",
    "    (RandomForestClassifier(n_estimators=1000, max_depth=10, random_state=0), \"Random Forest\"),\n",
    "    (SVC(decision_function_shape=\"ovo\"), \"Support Vector Machine\"),\n",
    "    (LogisticRegression(random_state=0, solver='lbfgs', multi_class='multinomial'), \"Logistic Regression\"),\n",
    "    (KNeighborsClassifier(n_neighbors=10), \"KNeighbors n_neighbors = 10\"),\n",
    "    (MLPClassifier(solver='lbfgs', alpha=1e-5, hidden_layer_sizes=(512, 10), random_state=1), \"Neural Nets\"),\n",
    "    (XGBClassifier(n_estimators=1000, learning_rate=0.05), \"Cross Gradient Booster\"),\n",
    "    (XGBRFClassifier(objective='multi:softmax'), \"Cross Gradient Booster (Random Forest)\")\n",
    "]"
   ]
  },
  {
   "cell_type": "code",
   "execution_count": 9,
   "metadata": {},
   "outputs": [
    {
     "name": "stdout",
     "output_type": "stream",
     "text": [
      "Accuracy Naive Bayes : 0.43725\n",
      "Accuracy Stochastic Gradient Descent : 0.43421\n",
      "Accuracy Decision trees : 0.37045\n",
      "Accuracy Random Forest : 0.53846\n",
      "Accuracy Support Vector Machine : 0.52024\n",
      "Accuracy Logistic Regression : 0.47773\n",
      "Accuracy KNeighbors n_neighbors = 10 : 0.5749\n",
      "Accuracy Neural Nets : 0.42004\n",
      "Accuracy Cross Gradient Booster : 0.4666\n",
      "Accuracy Cross Gradient Booster (Random Forest) : 0.52227\n"
     ]
    }
   ],
   "source": [
    "# Iterate through each model and assess it\n",
    "for model, title in models:\n",
    "    model_assess(X_train, y_train, X_test, y_test, model, title)"
   ]
  },
  {
   "cell_type": "markdown",
   "metadata": {},
   "source": [
    "#### 2. 30 Second Model"
   ]
  },
  {
   "cell_type": "code",
   "execution_count": 19,
   "metadata": {},
   "outputs": [],
   "source": [
    "# Load and normalize training data\n",
    "X_train, y_train = load_data(f'{path}/train_features_30_sec.csv')\n",
    "X_train = normalize_data(X_train)\n",
    "\n",
    "# Load and normalize validation data\n",
    "X_val, y_val = load_data(f'{path}/val_features_30_sec.csv')\n",
    "X_val = normalize_data(X_val)\n",
    "\n",
    "# Load and normalize test data\n",
    "X_test, y_test = load_data(f'{path}/test_features_30_sec.csv')\n",
    "X_test = normalize_data(X_test)"
   ]
  },
  {
   "cell_type": "code",
   "execution_count": 20,
   "metadata": {},
   "outputs": [],
   "source": [
    "X_train = pd.concat([X_train, X_val], ignore_index=True)\n",
    "y_train = np.concatenate((y_train, y_val), axis=0)"
   ]
  },
  {
   "cell_type": "code",
   "execution_count": 21,
   "metadata": {},
   "outputs": [
    {
     "name": "stdout",
     "output_type": "stream",
     "text": [
      "Accuracy Naive Bayes : 0.49495\n",
      "Accuracy Stochastic Gradient Descent : 0.34343\n",
      "Accuracy Decision trees : 0.31313\n",
      "Accuracy Random Forest : 0.63636\n",
      "Accuracy Support Vector Machine : 0.60606\n",
      "Accuracy Logistic Regression : 0.57576\n",
      "Accuracy KNeighbors n_neighbors = 10 : 0.70707\n",
      "Accuracy Neural Nets : 0.56566\n",
      "Accuracy Cross Gradient Booster : 0.58586\n",
      "Accuracy Cross Gradient Booster (Random Forest) : 0.51515\n"
     ]
    }
   ],
   "source": [
    "# Iterate through each model and assess it\n",
    "for model, title in models:\n",
    "    model_assess(X_train, y_train, X_test, y_test, model, title)"
   ]
  },
  {
   "cell_type": "markdown",
   "metadata": {},
   "source": [
    "## Ensemble Baseline"
   ]
  },
  {
   "cell_type": "code",
   "execution_count": 22,
   "metadata": {},
   "outputs": [],
   "source": [
    "def extract_mfcc(dataset_path, num_segments, num_mfcc, n_fft, hop_length, samples_per_segment, num_mfcc_vectors_per_segment, sample_rate):\n",
    "    mfcc_list, label_list = [], []\n",
    "    for i, (dirpath, dirnames, filenames) in enumerate(os.walk(dataset_path)):\n",
    "        if dirpath is not dataset_path:\n",
    "            semantic_label = dirpath.split(\"/\")[-1]\n",
    "            print(\"Processing:\", semantic_label)\n",
    "            for f in filenames:\n",
    "                file_path = os.path.join(dirpath, f)\n",
    "                if file_path != os.path.join(dataset_path, \"jazz/jazz.00054.wav\"):\n",
    "                    signal, sample_rate = librosa.load(file_path, sr=sample_rate)\n",
    "                    for d in range(num_segments):\n",
    "                        start = samples_per_segment * d\n",
    "                        finish = start + samples_per_segment\n",
    "                        mfcc = librosa.feature.mfcc(y=signal[start:finish], sr=sample_rate, n_mfcc=num_mfcc, n_fft=n_fft, hop_length=hop_length)\n",
    "                        mfcc = mfcc.T\n",
    "                        if len(mfcc) == num_mfcc_vectors_per_segment:\n",
    "                            mfcc_list.append(mfcc.tolist())\n",
    "                            label_list.append(i-1)\n",
    "    return mfcc_list, label_list\n",
    "\n",
    "def save_to_json(data, json_path):\n",
    "    with open(json_path, \"w\") as fp:\n",
    "        json.dump(data, fp, indent=4)"
   ]
  },
  {
   "cell_type": "code",
   "execution_count": 41,
   "metadata": {},
   "outputs": [],
   "source": [
    "SAMPLE_RATE = 22050\n",
    "TRACK_DURATION = 30  # measured in seconds\n",
    "SAMPLES_PER_TRACK = SAMPLE_RATE * TRACK_DURATION\n",
    "TRAIN_DATASET_PATH = '../Data/train/genres_original/'\n",
    "TEST_DATASET_PATH = '../Data/test/genres_original/'\n",
    "VAL_DATASET_PATH = '../Data/val/genres_original/'\n",
    "num_mfcc = 13\n",
    "n_fft = 2048\n",
    "hop_length = 512\n",
    "num_segments = 10\n",
    "samples_per_segment = int(SAMPLES_PER_TRACK / num_segments)\n",
    "num_mfcc_vectors_per_segment = ceil(samples_per_segment / hop_length)"
   ]
  },
  {
   "cell_type": "code",
   "execution_count": 23,
   "metadata": {},
   "outputs": [
    {
     "name": "stdout",
     "output_type": "stream",
     "text": [
      "Processing: country\n",
      "Processing: rock\n",
      "Processing: disco\n",
      "Processing: blues\n",
      "Processing: reggae\n",
      "Processing: jazz\n",
      "Processing: classical\n",
      "Processing: metal\n",
      "Processing: pop\n",
      "Processing: hiphop\n",
      "Processing: country\n",
      "Processing: rock\n",
      "Processing: disco\n",
      "Processing: blues\n",
      "Processing: reggae\n",
      "Processing: jazz\n",
      "Processing: classical\n",
      "Processing: metal\n",
      "Processing: pop\n",
      "Processing: hiphop\n",
      "Processing: country\n",
      "Processing: rock\n",
      "Processing: disco\n",
      "Processing: blues\n",
      "Processing: reggae\n",
      "Processing: jazz\n",
      "Processing: classical\n",
      "Processing: metal\n",
      "Processing: pop\n",
      "Processing: hiphop\n",
      "Data processing complete.\n"
     ]
    }
   ],
   "source": [
    "# Process and save train data\n",
    "train_mfcc, train_labels = extract_mfcc(TRAIN_DATASET_PATH, num_segments, num_mfcc, n_fft, hop_length, samples_per_segment, num_mfcc_vectors_per_segment, SAMPLE_RATE)\n",
    "save_to_json({\"mfcc\": train_mfcc, \"labels\": train_labels}, \"train_data.json\")\n",
    "\n",
    "# Process and save test data\n",
    "test_mfcc, test_labels = extract_mfcc(TEST_DATASET_PATH, num_segments, num_mfcc, n_fft, hop_length, samples_per_segment, num_mfcc_vectors_per_segment, SAMPLE_RATE)\n",
    "save_to_json({\"mfcc\": test_mfcc, \"labels\": test_labels}, \"test_data.json\")\n",
    "\n",
    "# Process and save validation data\n",
    "val_mfcc, val_labels = extract_mfcc(VAL_DATASET_PATH, num_segments, num_mfcc, n_fft, hop_length, samples_per_segment, num_mfcc_vectors_per_segment, SAMPLE_RATE)\n",
    "save_to_json({\"mfcc\": val_mfcc, \"labels\": val_labels}, \"val_data.json\")\n",
    "\n",
    "print(\"Data processing complete.\")"
   ]
  },
  {
   "cell_type": "code",
   "execution_count": 42,
   "metadata": {},
   "outputs": [],
   "source": [
    "def load_data_mfcc(data_path):\n",
    "    with open(data_path, \"r\") as fp:\n",
    "        data = json.load(fp)\n",
    "\n",
    "    X = np.array(data[\"mfcc\"])\n",
    "    y = np.array(data[\"labels\"])\n",
    "    return X, y\n",
    "\n",
    "def plot_history(history, title):\n",
    "    fig, axs = plt.subplots(2)\n",
    "\n",
    "    axs[0].plot(history.history[\"accuracy\"], label=\"train accuracy\")\n",
    "    axs[0].plot(history.history[\"val_accuracy\"], label=\"test accuracy\")\n",
    "    axs[0].set_ylabel(\"Accuracy\")\n",
    "    axs[0].legend(loc=\"lower right\")\n",
    "\n",
    "    axs[1].plot(history.history[\"loss\"], label=\"train error\")\n",
    "    axs[1].plot(history.history[\"val_loss\"], label=\"test error\")\n",
    "    axs[1].set_ylabel(\"Error\")\n",
    "    axs[1].set_xlabel(\"Epoch\")\n",
    "    axs[1].legend(loc=\"upper right\")\n",
    "    plt.savefig(title + '_acc_loss' + '.png')\n",
    "    plt.show()\n",
    "\n",
    "def predict(model, X, y):\n",
    "    X = X[np.newaxis, ...]\n",
    "\n",
    "    prediction = model.predict(X)\n",
    "    predicted_index = np.argmax(prediction, axis=1)\n",
    "\n",
    "    print(\"Target: {}, Predicted label: {}\".format(y, predicted_index))"
   ]
  },
  {
   "cell_type": "code",
   "execution_count": 43,
   "metadata": {},
   "outputs": [],
   "source": [
    "X_train, y_train = load_data_mfcc(\"train_data.json\")\n",
    "X_validation, y_validation = load_data_mfcc(\"val_data.json\")\n",
    "X_test, y_test = load_data_mfcc(\"test_data.json\")"
   ]
  },
  {
   "cell_type": "markdown",
   "metadata": {},
   "source": [
    "#### 1. CNN Model (without Pretrained Model) "
   ]
  },
  {
   "cell_type": "code",
   "execution_count": 44,
   "metadata": {},
   "outputs": [],
   "source": [
    "NUM_EPOCHS = 20"
   ]
  },
  {
   "cell_type": "code",
   "execution_count": 45,
   "metadata": {},
   "outputs": [
    {
     "name": "stderr",
     "output_type": "stream",
     "text": [
      "2023-11-18 00:33:57.058937: I tensorflow/core/common_runtime/process_util.cc:146] Creating new thread pool with default inter op setting: 2. Tune using inter_op_parallelism_threads for best performance.\n"
     ]
    },
    {
     "name": "stdout",
     "output_type": "stream",
     "text": [
      "Model: \"sequential\"\n",
      "_________________________________________________________________\n",
      " Layer (type)                Output Shape              Param #   \n",
      "=================================================================\n",
      " conv2d (Conv2D)             (None, 128, 11, 32)       320       \n",
      "                                                                 \n",
      " max_pooling2d (MaxPooling2D  (None, 64, 6, 32)        0         \n",
      " )                                                               \n",
      "                                                                 \n",
      " batch_normalization (BatchN  (None, 64, 6, 32)        128       \n",
      " ormalization)                                                   \n",
      "                                                                 \n",
      " conv2d_1 (Conv2D)           (None, 62, 4, 32)         9248      \n",
      "                                                                 \n",
      " max_pooling2d_1 (MaxPooling  (None, 31, 2, 32)        0         \n",
      " 2D)                                                             \n",
      "                                                                 \n",
      " batch_normalization_1 (Batc  (None, 31, 2, 32)        128       \n",
      " hNormalization)                                                 \n",
      "                                                                 \n",
      " conv2d_2 (Conv2D)           (None, 30, 1, 32)         4128      \n",
      "                                                                 \n",
      " max_pooling2d_2 (MaxPooling  (None, 15, 1, 32)        0         \n",
      " 2D)                                                             \n",
      "                                                                 \n",
      " batch_normalization_2 (Batc  (None, 15, 1, 32)        128       \n",
      " hNormalization)                                                 \n",
      "                                                                 \n",
      " flatten (Flatten)           (None, 480)               0         \n",
      "                                                                 \n",
      " dense (Dense)               (None, 64)                30784     \n",
      "                                                                 \n",
      " dropout (Dropout)           (None, 64)                0         \n",
      "                                                                 \n",
      " dense_1 (Dense)             (None, 10)                650       \n",
      "                                                                 \n",
      "=================================================================\n",
      "Total params: 45,514\n",
      "Trainable params: 45,322\n",
      "Non-trainable params: 192\n",
      "_________________________________________________________________\n",
      "Epoch 1/20\n",
      "250/250 [==============================] - 17s 64ms/step - loss: 2.1038 - accuracy: 0.2901 - val_loss: 1.7016 - val_accuracy: 0.4060\n",
      "Epoch 2/20\n",
      "250/250 [==============================] - 10s 42ms/step - loss: 1.6141 - accuracy: 0.4333 - val_loss: 1.4744 - val_accuracy: 0.4710\n",
      "Epoch 3/20\n",
      "250/250 [==============================] - 16s 62ms/step - loss: 1.4307 - accuracy: 0.4926 - val_loss: 1.3413 - val_accuracy: 0.4950\n",
      "Epoch 4/20\n",
      "250/250 [==============================] - 12s 49ms/step - loss: 1.3177 - accuracy: 0.5289 - val_loss: 1.2655 - val_accuracy: 0.5530\n",
      "Epoch 5/20\n",
      "250/250 [==============================] - 12s 48ms/step - loss: 1.2277 - accuracy: 0.5586 - val_loss: 1.2215 - val_accuracy: 0.5570\n",
      "Epoch 6/20\n",
      "250/250 [==============================] - 10s 39ms/step - loss: 1.1564 - accuracy: 0.5874 - val_loss: 1.1804 - val_accuracy: 0.5710\n",
      "Epoch 7/20\n",
      "250/250 [==============================] - 16s 62ms/step - loss: 1.1147 - accuracy: 0.6018 - val_loss: 1.1644 - val_accuracy: 0.5890\n",
      "Epoch 8/20\n",
      "250/250 [==============================] - 12s 47ms/step - loss: 1.0592 - accuracy: 0.6292 - val_loss: 1.1323 - val_accuracy: 0.5960\n",
      "Epoch 9/20\n",
      "250/250 [==============================] - 12s 47ms/step - loss: 1.0222 - accuracy: 0.6361 - val_loss: 1.1253 - val_accuracy: 0.5930\n",
      "Epoch 10/20\n",
      "250/250 [==============================] - 14s 54ms/step - loss: 0.9726 - accuracy: 0.6498 - val_loss: 1.1648 - val_accuracy: 0.5900\n",
      "Epoch 11/20\n",
      "250/250 [==============================] - 14s 55ms/step - loss: 0.9485 - accuracy: 0.6665 - val_loss: 1.0872 - val_accuracy: 0.6160\n",
      "Epoch 12/20\n",
      "250/250 [==============================] - 12s 46ms/step - loss: 0.9071 - accuracy: 0.6777 - val_loss: 1.1418 - val_accuracy: 0.6190\n",
      "Epoch 13/20\n",
      "250/250 [==============================] - 10s 38ms/step - loss: 0.8765 - accuracy: 0.6882 - val_loss: 1.0652 - val_accuracy: 0.6190\n",
      "Epoch 14/20\n",
      "250/250 [==============================] - 10s 39ms/step - loss: 0.8531 - accuracy: 0.6948 - val_loss: 1.0894 - val_accuracy: 0.6240\n",
      "Epoch 15/20\n",
      "250/250 [==============================] - 13s 52ms/step - loss: 0.8154 - accuracy: 0.7100 - val_loss: 1.0793 - val_accuracy: 0.6360\n",
      "Epoch 16/20\n",
      "250/250 [==============================] - 9s 35ms/step - loss: 0.8072 - accuracy: 0.7112 - val_loss: 1.0525 - val_accuracy: 0.6490\n",
      "Epoch 17/20\n",
      "250/250 [==============================] - 10s 39ms/step - loss: 0.7872 - accuracy: 0.7211 - val_loss: 1.0699 - val_accuracy: 0.6340\n",
      "Epoch 18/20\n",
      "250/250 [==============================] - 14s 56ms/step - loss: 0.7479 - accuracy: 0.7367 - val_loss: 1.0106 - val_accuracy: 0.6620\n",
      "Epoch 19/20\n",
      "250/250 [==============================] - 12s 48ms/step - loss: 0.7503 - accuracy: 0.7333 - val_loss: 1.0808 - val_accuracy: 0.6280\n",
      "Epoch 20/20\n",
      "250/250 [==============================] - 11s 43ms/step - loss: 0.7275 - accuracy: 0.7444 - val_loss: 1.0754 - val_accuracy: 0.6450\n"
     ]
    },
    {
     "data": {
      "image/png": "[encoded data removed]",
      "text/plain": [
       "<Figure size 640x480 with 2 Axes>"
      ]
     },
     "metadata": {},
     "output_type": "display_data"
    },
    {
     "name": "stdout",
     "output_type": "stream",
     "text": [
      "31/31 - 0s - loss: 1.0750 - accuracy: 0.6616 - 207ms/epoch - 7ms/step\n",
      "\n",
      "Test accuracy: 0.6616161465644836\n",
      "1/1 [==============================] - 0s 193ms/step\n",
      "Target: 1, Predicted label: [5]\n"
     ]
    }
   ],
   "source": [
    "def cnn_build_model(input_shape):\n",
    "    cnn_model = keras.Sequential()\n",
    "\n",
    "    cnn_model.add(keras.layers.Conv2D(32, (3, 3), activation='relu', input_shape=input_shape))\n",
    "    cnn_model.add(keras.layers.MaxPooling2D((3, 3), strides=(2, 2), padding='same'))\n",
    "    cnn_model.add(keras.layers.BatchNormalization())\n",
    "\n",
    "    cnn_model.add(keras.layers.Conv2D(32, (3, 3), activation='relu'))\n",
    "    cnn_model.add(keras.layers.MaxPooling2D((3, 3), strides=(2, 2), padding='same'))\n",
    "    cnn_model.add(keras.layers.BatchNormalization())\n",
    "\n",
    "    cnn_model.add(keras.layers.Conv2D(32, (2, 2), activation='relu'))\n",
    "    cnn_model.add(keras.layers.MaxPooling2D((2, 2), strides=(2, 2), padding='same'))\n",
    "    cnn_model.add(keras.layers.BatchNormalization())\n",
    "\n",
    "    cnn_model.add(keras.layers.Flatten())\n",
    "    cnn_model.add(keras.layers.Dense(64, activation='relu'))\n",
    "    cnn_model.add(keras.layers.Dropout(0.2))\n",
    "\n",
    "    cnn_model.add(keras.layers.Dense(10, activation='softmax'))\n",
    "\n",
    "    return cnn_model\n",
    "\n",
    "input_shape = (X_train.shape[1], X_train.shape[2], 1)\n",
    "cnn_model = cnn_build_model(input_shape)\n",
    "\n",
    "optimiser = keras.optimizers.RMSprop(learning_rate=0.0001)\n",
    "cnn_model.compile(optimizer=optimiser, loss='sparse_categorical_crossentropy', metrics=['accuracy'])\n",
    "\n",
    "cnn_model.summary()\n",
    "    \n",
    "early_stopping = keras.callbacks.EarlyStopping(monitor='val_loss', patience=5, restore_best_weights=True)\n",
    "\n",
    "history = cnn_model.fit(X_train, y_train, validation_data=(X_validation, y_validation), batch_size=32, epochs=NUM_EPOCHS, callbacks=[early_stopping])\n",
    "plot_history(history, \"../Output/Baseline/MFCC_CNN\")\n",
    "\n",
    "test_loss, test_acc = cnn_model.evaluate(X_test, y_test, verbose=2)\n",
    "print('\\nTest accuracy:', test_acc)\n",
    "X_to_predict = X_test[100]\n",
    "y_to_predict = y_test[100]\n",
    "\n",
    "predict(cnn_model, X_to_predict, y_to_predict)"
   ]
  },
  {
   "cell_type": "markdown",
   "metadata": {},
   "source": [
    "#### 2. LSTM Model"
   ]
  },
  {
   "cell_type": "code",
   "execution_count": 46,
   "metadata": {},
   "outputs": [
    {
     "name": "stderr",
     "output_type": "stream",
     "text": [
      "2023-11-18 00:38:20.898464: I tensorflow/core/common_runtime/executor.cc:1197] [/device:CPU:0] (DEBUG INFO) Executor start aborting (this does not indicate an error and you can ignore this message): INVALID_ARGUMENT: You must feed a value for placeholder tensor 'gradients/split_2_grad/concat/split_2/split_dim' with dtype int32\n",
      "\t [[{{node gradients/split_2_grad/concat/split_2/split_dim}}]]\n",
      "2023-11-18 00:38:20.899497: I tensorflow/core/common_runtime/executor.cc:1197] [/device:CPU:0] (DEBUG INFO) Executor start aborting (this does not indicate an error and you can ignore this message): INVALID_ARGUMENT: You must feed a value for placeholder tensor 'gradients/split_grad/concat/split/split_dim' with dtype int32\n",
      "\t [[{{node gradients/split_grad/concat/split/split_dim}}]]\n",
      "2023-11-18 00:38:20.900230: I tensorflow/core/common_runtime/executor.cc:1197] [/device:CPU:0] (DEBUG INFO) Executor start aborting (this does not indicate an error and you can ignore this message): INVALID_ARGUMENT: You must feed a value for placeholder tensor 'gradients/split_1_grad/concat/split_1/split_dim' with dtype int32\n",
      "\t [[{{node gradients/split_1_grad/concat/split_1/split_dim}}]]\n",
      "2023-11-18 00:38:21.027141: I tensorflow/core/common_runtime/executor.cc:1197] [/device:CPU:0] (DEBUG INFO) Executor start aborting (this does not indicate an error and you can ignore this message): INVALID_ARGUMENT: You must feed a value for placeholder tensor 'gradients/split_2_grad/concat/split_2/split_dim' with dtype int32\n",
      "\t [[{{node gradients/split_2_grad/concat/split_2/split_dim}}]]\n",
      "2023-11-18 00:38:21.027932: I tensorflow/core/common_runtime/executor.cc:1197] [/device:CPU:0] (DEBUG INFO) Executor start aborting (this does not indicate an error and you can ignore this message): INVALID_ARGUMENT: You must feed a value for placeholder tensor 'gradients/split_grad/concat/split/split_dim' with dtype int32\n",
      "\t [[{{node gradients/split_grad/concat/split/split_dim}}]]\n",
      "2023-11-18 00:38:21.028672: I tensorflow/core/common_runtime/executor.cc:1197] [/device:CPU:0] (DEBUG INFO) Executor start aborting (this does not indicate an error and you can ignore this message): INVALID_ARGUMENT: You must feed a value for placeholder tensor 'gradients/split_1_grad/concat/split_1/split_dim' with dtype int32\n",
      "\t [[{{node gradients/split_1_grad/concat/split_1/split_dim}}]]\n"
     ]
    },
    {
     "name": "stdout",
     "output_type": "stream",
     "text": [
      "Model: \"sequential_1\"\n",
      "_________________________________________________________________\n",
      " Layer (type)                Output Shape              Param #   \n",
      "=================================================================\n",
      " lstm (LSTM)                 (None, 130, 32)           5888      \n",
      "                                                                 \n",
      " batch_normalization_3 (Batc  (None, 130, 32)          128       \n",
      " hNormalization)                                                 \n",
      "                                                                 \n",
      " lstm_1 (LSTM)               (None, 130, 32)           8320      \n",
      "                                                                 \n",
      " batch_normalization_4 (Batc  (None, 130, 32)          128       \n",
      " hNormalization)                                                 \n",
      "                                                                 \n",
      " lstm_2 (LSTM)               (None, 32)                8320      \n",
      "                                                                 \n",
      " batch_normalization_5 (Batc  (None, 32)               128       \n",
      " hNormalization)                                                 \n",
      "                                                                 \n",
      " dense_2 (Dense)             (None, 64)                2112      \n",
      "                                                                 \n",
      " dropout_1 (Dropout)         (None, 64)                0         \n",
      "                                                                 \n",
      " dense_3 (Dense)             (None, 10)                650       \n",
      "                                                                 \n",
      "=================================================================\n",
      "Total params: 25,674\n",
      "Trainable params: 25,482\n",
      "Non-trainable params: 192\n",
      "_________________________________________________________________\n",
      "Epoch 1/10\n"
     ]
    },
    {
     "name": "stderr",
     "output_type": "stream",
     "text": [
      "2023-11-18 00:38:21.157573: I tensorflow/core/common_runtime/executor.cc:1197] [/device:CPU:0] (DEBUG INFO) Executor start aborting (this does not indicate an error and you can ignore this message): INVALID_ARGUMENT: You must feed a value for placeholder tensor 'gradients/split_2_grad/concat/split_2/split_dim' with dtype int32\n",
      "\t [[{{node gradients/split_2_grad/concat/split_2/split_dim}}]]\n",
      "2023-11-18 00:38:21.158760: I tensorflow/core/common_runtime/executor.cc:1197] [/device:CPU:0] (DEBUG INFO) Executor start aborting (this does not indicate an error and you can ignore this message): INVALID_ARGUMENT: You must feed a value for placeholder tensor 'gradients/split_grad/concat/split/split_dim' with dtype int32\n",
      "\t [[{{node gradients/split_grad/concat/split/split_dim}}]]\n",
      "2023-11-18 00:38:21.159722: I tensorflow/core/common_runtime/executor.cc:1197] [/device:CPU:0] (DEBUG INFO) Executor start aborting (this does not indicate an error and you can ignore this message): INVALID_ARGUMENT: You must feed a value for placeholder tensor 'gradients/split_1_grad/concat/split_1/split_dim' with dtype int32\n",
      "\t [[{{node gradients/split_1_grad/concat/split_1/split_dim}}]]\n",
      "2023-11-18 00:38:21.381704: I tensorflow/core/common_runtime/executor.cc:1197] [/device:CPU:0] (DEBUG INFO) Executor start aborting (this does not indicate an error and you can ignore this message): INVALID_ARGUMENT: You must feed a value for placeholder tensor 'gradients/split_2_grad/concat/split_2/split_dim' with dtype int32\n",
      "\t [[{{node gradients/split_2_grad/concat/split_2/split_dim}}]]\n",
      "2023-11-18 00:38:21.382904: I tensorflow/core/common_runtime/executor.cc:1197] [/device:CPU:0] (DEBUG INFO) Executor start aborting (this does not indicate an error and you can ignore this message): INVALID_ARGUMENT: You must feed a value for placeholder tensor 'gradients/split_grad/concat/split/split_dim' with dtype int32\n",
      "\t [[{{node gradients/split_grad/concat/split/split_dim}}]]\n",
      "2023-11-18 00:38:21.383783: I tensorflow/core/common_runtime/executor.cc:1197] [/device:CPU:0] (DEBUG INFO) Executor start aborting (this does not indicate an error and you can ignore this message): INVALID_ARGUMENT: You must feed a value for placeholder tensor 'gradients/split_1_grad/concat/split_1/split_dim' with dtype int32\n",
      "\t [[{{node gradients/split_1_grad/concat/split_1/split_dim}}]]\n",
      "2023-11-18 00:38:21.516976: I tensorflow/core/common_runtime/executor.cc:1197] [/device:CPU:0] (DEBUG INFO) Executor start aborting (this does not indicate an error and you can ignore this message): INVALID_ARGUMENT: You must feed a value for placeholder tensor 'gradients/split_2_grad/concat/split_2/split_dim' with dtype int32\n",
      "\t [[{{node gradients/split_2_grad/concat/split_2/split_dim}}]]\n",
      "2023-11-18 00:38:21.517988: I tensorflow/core/common_runtime/executor.cc:1197] [/device:CPU:0] (DEBUG INFO) Executor start aborting (this does not indicate an error and you can ignore this message): INVALID_ARGUMENT: You must feed a value for placeholder tensor 'gradients/split_grad/concat/split/split_dim' with dtype int32\n",
      "\t [[{{node gradients/split_grad/concat/split/split_dim}}]]\n",
      "2023-11-18 00:38:21.518796: I tensorflow/core/common_runtime/executor.cc:1197] [/device:CPU:0] (DEBUG INFO) Executor start aborting (this does not indicate an error and you can ignore this message): INVALID_ARGUMENT: You must feed a value for placeholder tensor 'gradients/split_1_grad/concat/split_1/split_dim' with dtype int32\n",
      "\t [[{{node gradients/split_1_grad/concat/split_1/split_dim}}]]\n",
      "2023-11-18 00:38:21.650348: I tensorflow/core/common_runtime/executor.cc:1197] [/device:CPU:0] (DEBUG INFO) Executor start aborting (this does not indicate an error and you can ignore this message): INVALID_ARGUMENT: You must feed a value for placeholder tensor 'gradients/split_2_grad/concat/split_2/split_dim' with dtype int32\n",
      "\t [[{{node gradients/split_2_grad/concat/split_2/split_dim}}]]\n",
      "2023-11-18 00:38:21.651704: I tensorflow/core/common_runtime/executor.cc:1197] [/device:CPU:0] (DEBUG INFO) Executor start aborting (this does not indicate an error and you can ignore this message): INVALID_ARGUMENT: You must feed a value for placeholder tensor 'gradients/split_grad/concat/split/split_dim' with dtype int32\n",
      "\t [[{{node gradients/split_grad/concat/split/split_dim}}]]\n",
      "2023-11-18 00:38:21.652503: I tensorflow/core/common_runtime/executor.cc:1197] [/device:CPU:0] (DEBUG INFO) Executor start aborting (this does not indicate an error and you can ignore this message): INVALID_ARGUMENT: You must feed a value for placeholder tensor 'gradients/split_1_grad/concat/split_1/split_dim' with dtype int32\n",
      "\t [[{{node gradients/split_1_grad/concat/split_1/split_dim}}]]\n",
      "2023-11-18 00:38:22.451583: I tensorflow/core/common_runtime/executor.cc:1197] [/device:CPU:0] (DEBUG INFO) Executor start aborting (this does not indicate an error and you can ignore this message): INVALID_ARGUMENT: You must feed a value for placeholder tensor 'gradients/split_2_grad/concat/split_2/split_dim' with dtype int32\n",
      "\t [[{{node gradients/split_2_grad/concat/split_2/split_dim}}]]\n",
      "2023-11-18 00:38:22.452876: I tensorflow/core/common_runtime/executor.cc:1197] [/device:CPU:0] (DEBUG INFO) Executor start aborting (this does not indicate an error and you can ignore this message): INVALID_ARGUMENT: You must feed a value for placeholder tensor 'gradients/split_grad/concat/split/split_dim' with dtype int32\n",
      "\t [[{{node gradients/split_grad/concat/split/split_dim}}]]\n",
      "2023-11-18 00:38:22.453658: I tensorflow/core/common_runtime/executor.cc:1197] [/device:CPU:0] (DEBUG INFO) Executor start aborting (this does not indicate an error and you can ignore this message): INVALID_ARGUMENT: You must feed a value for placeholder tensor 'gradients/split_1_grad/concat/split_1/split_dim' with dtype int32\n",
      "\t [[{{node gradients/split_1_grad/concat/split_1/split_dim}}]]\n",
      "2023-11-18 00:38:22.586794: I tensorflow/core/common_runtime/executor.cc:1197] [/device:CPU:0] (DEBUG INFO) Executor start aborting (this does not indicate an error and you can ignore this message): INVALID_ARGUMENT: You must feed a value for placeholder tensor 'gradients/split_2_grad/concat/split_2/split_dim' with dtype int32\n",
      "\t [[{{node gradients/split_2_grad/concat/split_2/split_dim}}]]\n",
      "2023-11-18 00:38:22.587724: I tensorflow/core/common_runtime/executor.cc:1197] [/device:CPU:0] (DEBUG INFO) Executor start aborting (this does not indicate an error and you can ignore this message): INVALID_ARGUMENT: You must feed a value for placeholder tensor 'gradients/split_grad/concat/split/split_dim' with dtype int32\n",
      "\t [[{{node gradients/split_grad/concat/split/split_dim}}]]\n",
      "2023-11-18 00:38:22.588480: I tensorflow/core/common_runtime/executor.cc:1197] [/device:CPU:0] (DEBUG INFO) Executor start aborting (this does not indicate an error and you can ignore this message): INVALID_ARGUMENT: You must feed a value for placeholder tensor 'gradients/split_1_grad/concat/split_1/split_dim' with dtype int32\n",
      "\t [[{{node gradients/split_1_grad/concat/split_1/split_dim}}]]\n",
      "2023-11-18 00:38:22.722480: I tensorflow/core/common_runtime/executor.cc:1197] [/device:CPU:0] (DEBUG INFO) Executor start aborting (this does not indicate an error and you can ignore this message): INVALID_ARGUMENT: You must feed a value for placeholder tensor 'gradients/split_2_grad/concat/split_2/split_dim' with dtype int32\n",
      "\t [[{{node gradients/split_2_grad/concat/split_2/split_dim}}]]\n",
      "2023-11-18 00:38:22.723763: I tensorflow/core/common_runtime/executor.cc:1197] [/device:CPU:0] (DEBUG INFO) Executor start aborting (this does not indicate an error and you can ignore this message): INVALID_ARGUMENT: You must feed a value for placeholder tensor 'gradients/split_grad/concat/split/split_dim' with dtype int32\n",
      "\t [[{{node gradients/split_grad/concat/split/split_dim}}]]\n",
      "2023-11-18 00:38:22.724537: I tensorflow/core/common_runtime/executor.cc:1197] [/device:CPU:0] (DEBUG INFO) Executor start aborting (this does not indicate an error and you can ignore this message): INVALID_ARGUMENT: You must feed a value for placeholder tensor 'gradients/split_1_grad/concat/split_1/split_dim' with dtype int32\n",
      "\t [[{{node gradients/split_1_grad/concat/split_1/split_dim}}]]\n"
     ]
    },
    {
     "name": "stdout",
     "output_type": "stream",
     "text": [
      "250/250 [==============================] - ETA: 0s - loss: 2.3443 - accuracy: 0.1659"
     ]
    },
    {
     "name": "stderr",
     "output_type": "stream",
     "text": [
      "2023-11-18 00:39:17.863111: I tensorflow/core/common_runtime/executor.cc:1197] [/device:CPU:0] (DEBUG INFO) Executor start aborting (this does not indicate an error and you can ignore this message): INVALID_ARGUMENT: You must feed a value for placeholder tensor 'gradients/split_2_grad/concat/split_2/split_dim' with dtype int32\n",
      "\t [[{{node gradients/split_2_grad/concat/split_2/split_dim}}]]\n",
      "2023-11-18 00:39:17.864540: I tensorflow/core/common_runtime/executor.cc:1197] [/device:CPU:0] (DEBUG INFO) Executor start aborting (this does not indicate an error and you can ignore this message): INVALID_ARGUMENT: You must feed a value for placeholder tensor 'gradients/split_grad/concat/split/split_dim' with dtype int32\n",
      "\t [[{{node gradients/split_grad/concat/split/split_dim}}]]\n",
      "2023-11-18 00:39:17.865311: I tensorflow/core/common_runtime/executor.cc:1197] [/device:CPU:0] (DEBUG INFO) Executor start aborting (this does not indicate an error and you can ignore this message): INVALID_ARGUMENT: You must feed a value for placeholder tensor 'gradients/split_1_grad/concat/split_1/split_dim' with dtype int32\n",
      "\t [[{{node gradients/split_1_grad/concat/split_1/split_dim}}]]\n",
      "2023-11-18 00:39:17.990866: I tensorflow/core/common_runtime/executor.cc:1197] [/device:CPU:0] (DEBUG INFO) Executor start aborting (this does not indicate an error and you can ignore this message): INVALID_ARGUMENT: You must feed a value for placeholder tensor 'gradients/split_2_grad/concat/split_2/split_dim' with dtype int32\n",
      "\t [[{{node gradients/split_2_grad/concat/split_2/split_dim}}]]\n",
      "2023-11-18 00:39:17.991716: I tensorflow/core/common_runtime/executor.cc:1197] [/device:CPU:0] (DEBUG INFO) Executor start aborting (this does not indicate an error and you can ignore this message): INVALID_ARGUMENT: You must feed a value for placeholder tensor 'gradients/split_grad/concat/split/split_dim' with dtype int32\n",
      "\t [[{{node gradients/split_grad/concat/split/split_dim}}]]\n",
      "2023-11-18 00:39:17.992476: I tensorflow/core/common_runtime/executor.cc:1197] [/device:CPU:0] (DEBUG INFO) Executor start aborting (this does not indicate an error and you can ignore this message): INVALID_ARGUMENT: You must feed a value for placeholder tensor 'gradients/split_1_grad/concat/split_1/split_dim' with dtype int32\n",
      "\t [[{{node gradients/split_1_grad/concat/split_1/split_dim}}]]\n",
      "2023-11-18 00:39:18.114963: I tensorflow/core/common_runtime/executor.cc:1197] [/device:CPU:0] (DEBUG INFO) Executor start aborting (this does not indicate an error and you can ignore this message): INVALID_ARGUMENT: You must feed a value for placeholder tensor 'gradients/split_2_grad/concat/split_2/split_dim' with dtype int32\n",
      "\t [[{{node gradients/split_2_grad/concat/split_2/split_dim}}]]\n",
      "2023-11-18 00:39:18.116070: I tensorflow/core/common_runtime/executor.cc:1197] [/device:CPU:0] (DEBUG INFO) Executor start aborting (this does not indicate an error and you can ignore this message): INVALID_ARGUMENT: You must feed a value for placeholder tensor 'gradients/split_grad/concat/split/split_dim' with dtype int32\n",
      "\t [[{{node gradients/split_grad/concat/split/split_dim}}]]\n",
      "2023-11-18 00:39:18.116795: I tensorflow/core/common_runtime/executor.cc:1197] [/device:CPU:0] (DEBUG INFO) Executor start aborting (this does not indicate an error and you can ignore this message): INVALID_ARGUMENT: You must feed a value for placeholder tensor 'gradients/split_1_grad/concat/split_1/split_dim' with dtype int32\n",
      "\t [[{{node gradients/split_1_grad/concat/split_1/split_dim}}]]\n"
     ]
    },
    {
     "name": "stdout",
     "output_type": "stream",
     "text": [
      "250/250 [==============================] - 60s 223ms/step - loss: 2.3443 - accuracy: 0.1659 - val_loss: 2.1150 - val_accuracy: 0.2520\n",
      "Epoch 2/10\n",
      "250/250 [==============================] - 60s 238ms/step - loss: 2.0408 - accuracy: 0.2865 - val_loss: 1.8968 - val_accuracy: 0.3240\n",
      "Epoch 3/10\n",
      "250/250 [==============================] - 57s 229ms/step - loss: 1.8874 - accuracy: 0.3346 - val_loss: 1.7975 - val_accuracy: 0.3380\n",
      "Epoch 4/10\n",
      "250/250 [==============================] - 56s 223ms/step - loss: 1.7943 - accuracy: 0.3634 - val_loss: 1.7408 - val_accuracy: 0.3650\n",
      "Epoch 5/10\n",
      "250/250 [==============================] - 57s 226ms/step - loss: 1.7265 - accuracy: 0.3850 - val_loss: 1.7008 - val_accuracy: 0.3760\n",
      "Epoch 6/10\n",
      "250/250 [==============================] - 56s 225ms/step - loss: 1.6859 - accuracy: 0.3948 - val_loss: 1.6874 - val_accuracy: 0.3870\n",
      "Epoch 7/10\n",
      "250/250 [==============================] - 53s 214ms/step - loss: 1.6468 - accuracy: 0.4097 - val_loss: 1.6650 - val_accuracy: 0.3900\n",
      "Epoch 8/10\n",
      "250/250 [==============================] - 61s 245ms/step - loss: 1.6218 - accuracy: 0.4186 - val_loss: 1.6579 - val_accuracy: 0.4080\n",
      "Epoch 9/10\n",
      "250/250 [==============================] - 65s 259ms/step - loss: 1.5834 - accuracy: 0.4259 - val_loss: 1.6482 - val_accuracy: 0.4040\n",
      "Epoch 10/10\n",
      "250/250 [==============================] - 64s 258ms/step - loss: 1.5683 - accuracy: 0.4380 - val_loss: 1.6345 - val_accuracy: 0.4130\n"
     ]
    },
    {
     "data": {
      "image/png": "[encoded data removed]",
      "text/plain": [
       "<Figure size 640x480 with 2 Axes>"
      ]
     },
     "metadata": {},
     "output_type": "display_data"
    },
    {
     "name": "stdout",
     "output_type": "stream",
     "text": [
      "31/31 - 2s - loss: 1.5756 - accuracy: 0.4141 - 2s/epoch - 74ms/step\n",
      "\n",
      "Test accuracy: 0.4141414165496826\n"
     ]
    },
    {
     "name": "stderr",
     "output_type": "stream",
     "text": [
      "2023-11-18 00:48:48.573407: I tensorflow/core/common_runtime/executor.cc:1197] [/device:CPU:0] (DEBUG INFO) Executor start aborting (this does not indicate an error and you can ignore this message): INVALID_ARGUMENT: You must feed a value for placeholder tensor 'gradients/split_2_grad/concat/split_2/split_dim' with dtype int32\n",
      "\t [[{{node gradients/split_2_grad/concat/split_2/split_dim}}]]\n",
      "2023-11-18 00:48:48.574566: I tensorflow/core/common_runtime/executor.cc:1197] [/device:CPU:0] (DEBUG INFO) Executor start aborting (this does not indicate an error and you can ignore this message): INVALID_ARGUMENT: You must feed a value for placeholder tensor 'gradients/split_grad/concat/split/split_dim' with dtype int32\n",
      "\t [[{{node gradients/split_grad/concat/split/split_dim}}]]\n",
      "2023-11-18 00:48:48.575292: I tensorflow/core/common_runtime/executor.cc:1197] [/device:CPU:0] (DEBUG INFO) Executor start aborting (this does not indicate an error and you can ignore this message): INVALID_ARGUMENT: You must feed a value for placeholder tensor 'gradients/split_1_grad/concat/split_1/split_dim' with dtype int32\n",
      "\t [[{{node gradients/split_1_grad/concat/split_1/split_dim}}]]\n",
      "2023-11-18 00:48:48.696345: I tensorflow/core/common_runtime/executor.cc:1197] [/device:CPU:0] (DEBUG INFO) Executor start aborting (this does not indicate an error and you can ignore this message): INVALID_ARGUMENT: You must feed a value for placeholder tensor 'gradients/split_2_grad/concat/split_2/split_dim' with dtype int32\n",
      "\t [[{{node gradients/split_2_grad/concat/split_2/split_dim}}]]\n",
      "2023-11-18 00:48:48.697117: I tensorflow/core/common_runtime/executor.cc:1197] [/device:CPU:0] (DEBUG INFO) Executor start aborting (this does not indicate an error and you can ignore this message): INVALID_ARGUMENT: You must feed a value for placeholder tensor 'gradients/split_grad/concat/split/split_dim' with dtype int32\n",
      "\t [[{{node gradients/split_grad/concat/split/split_dim}}]]\n",
      "2023-11-18 00:48:48.697813: I tensorflow/core/common_runtime/executor.cc:1197] [/device:CPU:0] (DEBUG INFO) Executor start aborting (this does not indicate an error and you can ignore this message): INVALID_ARGUMENT: You must feed a value for placeholder tensor 'gradients/split_1_grad/concat/split_1/split_dim' with dtype int32\n",
      "\t [[{{node gradients/split_1_grad/concat/split_1/split_dim}}]]\n",
      "2023-11-18 00:48:48.820011: I tensorflow/core/common_runtime/executor.cc:1197] [/device:CPU:0] (DEBUG INFO) Executor start aborting (this does not indicate an error and you can ignore this message): INVALID_ARGUMENT: You must feed a value for placeholder tensor 'gradients/split_2_grad/concat/split_2/split_dim' with dtype int32\n",
      "\t [[{{node gradients/split_2_grad/concat/split_2/split_dim}}]]\n",
      "2023-11-18 00:48:48.821093: I tensorflow/core/common_runtime/executor.cc:1197] [/device:CPU:0] (DEBUG INFO) Executor start aborting (this does not indicate an error and you can ignore this message): INVALID_ARGUMENT: You must feed a value for placeholder tensor 'gradients/split_grad/concat/split/split_dim' with dtype int32\n",
      "\t [[{{node gradients/split_grad/concat/split/split_dim}}]]\n",
      "2023-11-18 00:48:48.821784: I tensorflow/core/common_runtime/executor.cc:1197] [/device:CPU:0] (DEBUG INFO) Executor start aborting (this does not indicate an error and you can ignore this message): INVALID_ARGUMENT: You must feed a value for placeholder tensor 'gradients/split_1_grad/concat/split_1/split_dim' with dtype int32\n",
      "\t [[{{node gradients/split_1_grad/concat/split_1/split_dim}}]]\n"
     ]
    },
    {
     "name": "stdout",
     "output_type": "stream",
     "text": [
      "1/1 [==============================] - 1s 678ms/step\n",
      "Target: 1, Predicted label: [1]\n"
     ]
    }
   ],
   "source": [
    "def build_lstm_model(input_shape, num_classes):\n",
    "    model = keras.Sequential([\n",
    "        layers.Input(shape=input_shape),\n",
    "        layers.LSTM(32, return_sequences=True),\n",
    "        layers.BatchNormalization(),\n",
    "        \n",
    "        layers.LSTM(32, return_sequences=True),\n",
    "        layers.BatchNormalization(),\n",
    "        \n",
    "        layers.LSTM(32),\n",
    "        layers.BatchNormalization(),\n",
    "        \n",
    "        layers.Dense(64, activation='relu'),\n",
    "        layers.Dropout(0.2),\n",
    "        \n",
    "        layers.Dense(num_classes, activation='softmax')\n",
    "    ])\n",
    "    return model\n",
    "\n",
    "input_shape = (X_train.shape[1], X_train.shape[2])  # Adapt based on your input data\n",
    "num_classes = len(np.unique(y_train))\n",
    "    \n",
    "lstm_model = build_lstm_model(input_shape, num_classes)\n",
    "\n",
    "optimiser = keras.optimizers.RMSprop(learning_rate=0.0001)\n",
    "lstm_model.compile(optimizer=optimiser, loss='sparse_categorical_crossentropy', metrics=['accuracy'])\n",
    "\n",
    "lstm_model.summary()\n",
    "    \n",
    "early_stopping = keras.callbacks.EarlyStopping(monitor='val_loss', patience=5, restore_best_weights=True)\n",
    "\n",
    "history = lstm_model.fit(X_train, y_train, validation_data=(X_validation, y_validation), batch_size=32, epochs=10, callbacks=[early_stopping])\n",
    "plot_history(history, \"../Output/Baseline/MFCC_LSTM\")\n",
    "\n",
    "test_loss, test_acc = lstm_model.evaluate(X_test, y_test, verbose=2)\n",
    "print('\\nTest accuracy:', test_acc)\n",
    "\n",
    "X_to_predict = X_test[100]\n",
    "y_to_predict = y_test[100]\n",
    "predict(lstm_model, X_to_predict, y_to_predict)"
   ]
  },
  {
   "cell_type": "markdown",
   "metadata": {},
   "source": [
    "#### 3. Traditional ML Models"
   ]
  },
  {
   "cell_type": "code",
   "execution_count": 47,
   "metadata": {},
   "outputs": [],
   "source": [
    "# Load and normalize training data\n",
    "X_train_tml, y_train_tml = load_data(f'{path}/train_features_30_sec.csv')\n",
    "X_train_tml = normalize_data(X_train_tml)\n",
    "\n",
    "# Load and normalize validation data\n",
    "X_val_tml, y_val_tml = load_data(f'{path}/val_features_30_sec.csv')\n",
    "X_val_tml = normalize_data(X_val_tml)\n",
    "\n",
    "# Load and normalize test data\n",
    "X_test_tml, y_test_tml = load_data(f'{path}/test_features_30_sec.csv')\n",
    "X_test_tml = normalize_data(X_test_tml)"
   ]
  },
  {
   "cell_type": "code",
   "execution_count": 48,
   "metadata": {},
   "outputs": [],
   "source": [
    "X_train_tml = pd.concat([X_train_tml, X_val_tml], ignore_index=True)\n",
    "y_train_tml = np.concatenate((y_train_tml, y_val_tml), axis=0)"
   ]
  },
  {
   "cell_type": "code",
   "execution_count": 49,
   "metadata": {},
   "outputs": [
    {
     "name": "stdout",
     "output_type": "stream",
     "text": [
      "Accuracy KNeighbors n_neighbors = 10 : 0.70707\n",
      "Accuracy Cross Gradient Booster (Random Forest) : 0.51515\n"
     ]
    }
   ],
   "source": [
    "knn_model = KNeighborsClassifier(n_neighbors=10)\n",
    "model_assess(X_train_tml, y_train_tml, X_test_tml, y_test_tml, knn_model, \"KNeighbors n_neighbors = 10\")\n",
    "xgbrf_model = XGBRFClassifier(objective='multi:softmax')\n",
    "model_assess(X_train_tml, y_train_tml, X_test_tml, y_test_tml, xgbrf_model, \"Cross Gradient Booster (Random Forest)\")"
   ]
  },
  {
   "cell_type": "markdown",
   "metadata": {},
   "source": [
    "#### 5. Ensemble Model"
   ]
  },
  {
   "cell_type": "code",
   "execution_count": 50,
   "metadata": {},
   "outputs": [],
   "source": [
    "X_test, y_test = load_data_mfcc(\"test_data.json\")"
   ]
  },
  {
   "cell_type": "code",
   "execution_count": 75,
   "metadata": {},
   "outputs": [
    {
     "name": "stdout",
     "output_type": "stream",
     "text": [
      "X_test shape: (990, 130, 13)\n",
      "y_test shape: (990,)\n",
      "X_test_sample shape: (99, 130, 13)\n",
      "y_test_sample shape: (99,)\n"
     ]
    }
   ],
   "source": [
    "print(f\"X_test shape: {X_test.shape}\")\n",
    "print(f\"y_test shape: {y_test.shape}\")\n",
    "\n",
    "# Get 1 example after every 10 examples\n",
    "X_test_sample = X_test[::10]\n",
    "y_test_sample = y_test[::10]\n",
    "\n",
    "print(f\"X_test_sample shape: {X_test_sample.shape}\")\n",
    "print(f\"y_test_sample shape: {y_test_sample.shape}\")"
   ]
  },
  {
   "cell_type": "code",
   "execution_count": 55,
   "metadata": {},
   "outputs": [
    {
     "name": "stdout",
     "output_type": "stream",
     "text": [
      "(99, 58)\n"
     ]
    }
   ],
   "source": [
    "print(X_test_tml.shape)"
   ]
  },
  {
   "cell_type": "code",
   "execution_count": 56,
   "metadata": {},
   "outputs": [
    {
     "data": {
      "text/plain": [
       "array([9, 0, 0, 8, 0, 0, 0, 0, 0, 0, 1, 1, 1, 5, 1, 5, 1, 1, 1, 5, 9, 7,\n",
       "       5, 9, 0, 0, 9, 8, 0, 0, 9, 8, 0, 9, 9, 9, 0, 9, 3, 9, 9, 0, 9, 7,\n",
       "       4, 4, 7, 4, 9, 5, 5, 5, 5, 5, 5, 5, 5, 5, 7, 6, 6, 9, 6, 6, 6, 9,\n",
       "       6, 9, 9, 8, 7, 7, 7, 7, 7, 7, 7, 7, 7, 8, 8, 8, 9, 0, 8, 0, 9, 7,\n",
       "       8, 0, 0, 8, 9, 9, 5, 7, 5, 9, 9], dtype=int32)"
      ]
     },
     "execution_count": 56,
     "metadata": {},
     "output_type": "execute_result"
    }
   ],
   "source": [
    "xgbrf_model.predict(X_test_tml.values)"
   ]
  },
  {
   "cell_type": "code",
   "execution_count": 57,
   "metadata": {},
   "outputs": [
    {
     "data": {
      "text/plain": [
       "array([9, 0, 0, 0, 0, 0, 2, 0, 5, 5, 1, 1, 1, 1, 1, 2, 1, 1, 1, 5, 2, 3,\n",
       "       2, 2, 0, 2, 3, 2, 2, 2, 3, 5, 3, 0, 5, 9, 9, 3, 8, 3, 3, 4, 0, 7,\n",
       "       4, 4, 4, 4, 4, 4, 1, 5, 5, 5, 5, 5, 5, 5, 5, 9, 6, 6, 6, 6, 6, 6,\n",
       "       6, 9, 6, 5, 7, 7, 7, 7, 7, 7, 7, 7, 7, 8, 8, 8, 2, 8, 8, 8, 2, 7,\n",
       "       8, 9, 2, 8, 9, 9, 2, 9, 3, 9, 9])"
      ]
     },
     "execution_count": 57,
     "metadata": {},
     "output_type": "execute_result"
    }
   ],
   "source": [
    "knn_model.predict(X_test_tml.values)"
   ]
  },
  {
   "cell_type": "code",
   "execution_count": 70,
   "metadata": {},
   "outputs": [
    {
     "name": "stdout",
     "output_type": "stream",
     "text": [
      "(10, 130, 13)\n"
     ]
    }
   ],
   "source": [
    "print(nX_test.shape)"
   ]
  },
  {
   "cell_type": "code",
   "execution_count": 67,
   "metadata": {},
   "outputs": [
    {
     "name": "stdout",
     "output_type": "stream",
     "text": [
      "31/31 [==============================] - 0s 6ms/step\n",
      "(990, 10)\n"
     ]
    }
   ],
   "source": [
    "preds = cnn_model.predict(X_test)\n",
    "print(preds.shape)"
   ]
  },
  {
   "cell_type": "code",
   "execution_count": 95,
   "metadata": {},
   "outputs": [
    {
     "name": "stdout",
     "output_type": "stream",
     "text": [
      "MFCCs\n",
      "CNN\n",
      "4/4 [==============================] - 0s 2ms/step\n",
      "LSTM\n",
      "4/4 [==============================] - 0s 71ms/step\n",
      "Features\n",
      "KNN\n",
      "XGBRF\n"
     ]
    }
   ],
   "source": [
    "models = {\n",
    "    \"MFCCs\": {\n",
    "        \"CNN\": cnn_model,\n",
    "        \"LSTM\": lstm_model\n",
    "    },\n",
    "    \"Features\": {\n",
    "        \"KNN\": knn_model,\n",
    "        \"XGBRF\": xgbrf_model\n",
    "    }\n",
    "}\n",
    "predictions = []\n",
    "\n",
    "for model_type in models:\n",
    "    print(model_type)\n",
    "    if model_type == \"MFCCs\":\n",
    "        for model_name, model in models[model_type].items():\n",
    "            print(model_name)\n",
    "            predictions.append(np.argmax(model.predict(X_test_sample), axis=1))\n",
    "    elif model_type == \"Features\":\n",
    "        for model_name, model in models[model_type].items():\n",
    "            print(model_name)\n",
    "            predictions.append(model.predict(X_test_tml.values))"
   ]
  },
  {
   "cell_type": "code",
   "execution_count": 96,
   "metadata": {},
   "outputs": [
    {
     "name": "stdout",
     "output_type": "stream",
     "text": [
      "Accuracy score: 0.7373737373737373\n"
     ]
    }
   ],
   "source": [
    "def determine_final_prediction(predictions, priority_order):\n",
    "    \"\"\"\n",
    "    Determine the final prediction for each sample. Choose the most frequent prediction,\n",
    "    and use priority order if all predictions are different or there's a tie.\n",
    "    \"\"\"\n",
    "    final_predictions = []\n",
    "    for sample_predictions in zip(*predictions):\n",
    "        counts = np.bincount(sample_predictions)\n",
    "        if np.max(counts) == 1:\n",
    "            final_predictions.append(sample_predictions[priority_order[0]])\n",
    "        else:\n",
    "            # Choose the class with the maximum frequency\n",
    "            final_predictions.append(np.argmax(counts))\n",
    "    return final_predictions\n",
    "\n",
    "# Assuming predictions for each model are already gathered\n",
    "# Model priority order: CNN, LSTM, KNN, XGBRF\n",
    "priority_order = [0, 1, 2, 3]  # Index of models in the predictions array\n",
    "\n",
    "final_predictions = determine_final_prediction(predictions, priority_order)\n",
    "print(f\"Accuracy score: {accuracy_score(y_test_sample, final_predictions)}\")"
   ]
  },
  {
   "cell_type": "code",
   "execution_count": 98,
   "metadata": {},
   "outputs": [
    {
     "data": {
      "text/plain": [
       "0"
      ]
     },
     "execution_count": 98,
     "metadata": {},
     "output_type": "execute_result"
    }
   ],
   "source": [
    "import gc\n",
    "gc.collect()"
   ]
  },
  {
   "cell_type": "code",
   "execution_count": 5,
   "metadata": {},
   "outputs": [],
   "source": [
    "seed = 42\n",
    "np.random.seed(seed)\n",
    "\n",
    "path = \"../Data\"\n",
    "path_audio_files = path + \"/genres_original/\"\n",
    "path_imgs = \"../Data/images_original/\"\n",
    "batch_size = 32\n",
    "hop_length = 512\n",
    "n_fft = 2048\n",
    "device = 'cuda' if torch.cuda.is_available() else 'cpu'\n",
    "\n",
    "genre_dict = {\"blues\":0,\"classical\":1,\"country\":2,\"disco\":3,\"hiphop\":4,\"jazz\":5,\"metal\":6,\"pop\":7,\"reggae\":8,\"rock\":9}"
   ]
  },
  {
   "cell_type": "code",
   "execution_count": 6,
   "metadata": {},
   "outputs": [],
   "source": [
    "class SimpleCNN(nn.Module):\n",
    "    def __init__(self, num_classes):\n",
    "        super(SimpleCNN, self).__init__()\n",
    "        # Convolutional layers\n",
    "        self.conv1 = nn.Conv2d(in_channels=3, out_channels=32, kernel_size=3, padding=1)\n",
    "        self.conv2 = nn.Conv2d(in_channels=32, out_channels=64, kernel_size=3, padding=1)\n",
    "        self.pool = nn.MaxPool2d(kernel_size=2, stride=2)\n",
    "\n",
    "        # Fully connected layers\n",
    "        self.fc1 = nn.Linear(497664, 512)  # Adjust the input features to match your data\n",
    "        self.fc2 = nn.Linear(512, num_classes)\n",
    "\n",
    "    def forward(self, x):\n",
    "        # Convolutional layers with ReLU and pooling\n",
    "        x = self.pool(F.relu(self.conv1(x)))\n",
    "        x = self.pool(F.relu(self.conv2(x)))\n",
    "        # Flatten the tensor for the fully connected layer\n",
    "        x = x.view(x.size(0), -1)\n",
    "        # Fully connected layers with ReLU\n",
    "        x = F.relu(self.fc1(x))\n",
    "        x = self.fc2(x)\n",
    "\n",
    "        return x"
   ]
  },
  {
   "cell_type": "code",
   "execution_count": 7,
   "metadata": {},
   "outputs": [
    {
     "name": "stdout",
     "output_type": "stream",
     "text": [
      "Classes: ['blues', 'classical', 'country', 'disco', 'hiphop', 'jazz', 'metal', 'pop', 'reggae', 'rock']\n",
      "Number of Train Samples: 800\n",
      "Number of Validation Samples: 100\n",
      "Number of Test Samples: 99\n"
     ]
    }
   ],
   "source": [
    "import torch\n",
    "from torchvision import datasets, transforms\n",
    "\n",
    "# Define Transforms\n",
    "train_transforms = transforms.Compose([\n",
    "    #transforms.Resize(224),\n",
    "    transforms.ToTensor(),\n",
    "    transforms.Normalize(mean=[0.4931, 0.9151, 0.9960], std=[0.4495, 0.1716, 0.0602])\n",
    "])\n",
    "\n",
    "test_transforms = transforms.Compose([\n",
    "    #transforms.Resize(224),\n",
    "    transforms.ToTensor(),\n",
    "    transforms.Normalize(mean=[0.4931, 0.9151, 0.9960], std=[0.4495, 0.1716, 0.0602])\n",
    "])\n",
    "\n",
    "# Paths to the train, validation, and test folders\n",
    "train_path = '../Data/train/images_original'  # Update this path\n",
    "val_path = '../Data/val/images_original'      # Update this path\n",
    "test_path = '../Data/test/images_original'    # Update this path\n",
    "\n",
    "# Load the data from folders\n",
    "train_dataset = datasets.ImageFolder(train_path, transform=train_transforms)\n",
    "val_dataset = datasets.ImageFolder(val_path, transform=test_transforms)\n",
    "test_dataset = datasets.ImageFolder(test_path, transform=test_transforms)\n",
    "\n",
    "# Batch Size (Define it if not already defined)\n",
    "batch_size = 32  # Update this as per your requirement\n",
    "\n",
    "# Make DataLoaders\n",
    "train_dataloader = torch.utils.data.DataLoader(\n",
    "    dataset=train_dataset, \n",
    "    batch_size=batch_size,\n",
    "    shuffle=True\n",
    ")\n",
    "\n",
    "val_dataloader = torch.utils.data.DataLoader(\n",
    "    dataset=val_dataset,\n",
    "    batch_size=batch_size,\n",
    "    shuffle=False\n",
    ")\n",
    "\n",
    "test_dataloader = torch.utils.data.DataLoader(\n",
    "    dataset=test_dataset,\n",
    "    batch_size=batch_size,\n",
    "    shuffle=False\n",
    ")\n",
    "\n",
    "# Classes\n",
    "classes = train_dataset.classes\n",
    "print(f\"Classes: {classes}\")\n",
    "\n",
    "# Print the number of samples in each set\n",
    "print(f\"Number of Train Samples: {len(train_dataset)}\")\n",
    "print(f\"Number of Validation Samples: {len(val_dataset)}\")\n",
    "print(f\"Number of Test Samples: {len(test_dataset)}\")"
   ]
  },
  {
   "cell_type": "code",
   "execution_count": 8,
   "metadata": {},
   "outputs": [],
   "source": [
    "# Number of classes (adjust this based on your dataset)\n",
    "num_classes = len(classes)\n",
    "\n",
    "# Create the model instance\n",
    "model = SimpleCNN(num_classes)\n",
    "\n",
    "# Define the Loss and Optimizer\n",
    "criterion = nn.CrossEntropyLoss()\n",
    "optimizer = torch.optim.Adam(model.parameters(), lr=0.001)"
   ]
  },
  {
   "cell_type": "code",
   "execution_count": 9,
   "metadata": {},
   "outputs": [],
   "source": [
    "def train(model, criterion, optimizer, train_dataloader, val_dataloader, print_every, num_epoch, save_at_epoch, checkpoint_path=None):\n",
    "\n",
    "    steps = 0\n",
    "    train_losses, val_losses = [], []\n",
    "    train_accuracies, val_accuracies = [], []\n",
    "    start_epoch = 0\n",
    "\n",
    "    model.to(device)\n",
    "\n",
    "    # Load checkpoint if provided\n",
    "    if checkpoint_path:\n",
    "        checkpoint = torch.load(checkpoint_path)\n",
    "        model.load_state_dict(checkpoint['model_state_dict'])\n",
    "        optimizer.load_state_dict(checkpoint['optimizer_state_dict'])\n",
    "        start_epoch = checkpoint['epoch']\n",
    "        train_losses = checkpoint['train_losses']\n",
    "        val_losses = checkpoint['val_losses']\n",
    "        train_accuracies = checkpoint.get('train_accuracies', [])\n",
    "        val_accuracies = checkpoint.get('val_accuracies', [])\n",
    "\n",
    "    for epoch in tqdm(range(start_epoch, num_epoch)):\n",
    "        running_loss = 0\n",
    "        correct_train = 0\n",
    "        total_train = 0\n",
    "        start_time = time()\n",
    "        iter_time = time()\n",
    "\n",
    "        model.train()\n",
    "        for i, (images, labels) in enumerate(train_dataloader):\n",
    "            steps += 1\n",
    "            images = images.to(device)\n",
    "            labels = labels.to(device)\n",
    "\n",
    "            # Forward pass\n",
    "            output = model(images)\n",
    "            loss = criterion(output, labels)\n",
    "\n",
    "            correct_train += (torch.max(output, dim=1)[1] == labels).sum()\n",
    "            total_train += labels.size(0)\n",
    "\n",
    "            # Backward and optimize\n",
    "            optimizer.zero_grad()\n",
    "            loss.backward()\n",
    "            optimizer.step()\n",
    "\n",
    "            running_loss += loss.item()\n",
    "\n",
    "            # Logging\n",
    "            if steps % print_every == 0:\n",
    "                print(f'Epoch [{epoch + 1}]/[{num_epoch}]. Batch [{i + 1}]/[{len(train_dataloader)}].', end=' ')\n",
    "                print(f'Train loss {running_loss / steps:.3f}.', end=' ')\n",
    "                print(f'Train acc {correct_train / total_train * 100:.3f}.', end=' ')\n",
    "        \n",
    "        train_accuracy = correct_train / total_train * 100\n",
    "        train_accuracies.append(train_accuracy)\n",
    "\n",
    "        train_loss = running_loss / len(train_dataloader)\n",
    "        train_losses.append(train_loss)\n",
    "\n",
    "        model.eval()\n",
    "        correct_val, total_val = 0, 0\n",
    "        val_loss = 0\n",
    "\n",
    "        with torch.no_grad():\n",
    "            for images, labels in val_dataloader:\n",
    "                images = images.to(device)\n",
    "                labels = labels.to(device)\n",
    "                output = model(images)\n",
    "                loss = criterion(output, labels)\n",
    "                val_loss += loss.item()\n",
    "                \n",
    "                correct_val += (torch.max(output, dim=1)[1] == labels).sum()\n",
    "                total_val += labels.size(0)\n",
    "\n",
    "        # Validation Accuracy\n",
    "        val_accuracy = correct_val / total_val * 100\n",
    "        val_accuracies.append(val_accuracy)\n",
    "\n",
    "        # Validation Loss\n",
    "        val_loss = val_loss / len(val_dataloader)\n",
    "        val_losses.append(val_loss)\n",
    "\n",
    "        print(f'Val loss {val_loss:.3f}.', end=' ')\n",
    "        print(f'Val acc {val_accuracy:.3f}.', end=' ')\n",
    "        print(f'Took {time() - iter_time:.3f} seconds')\n",
    "        iter_time = time()\n",
    "        \n",
    "        print(f'Epoch took {time() - start_time}')\n",
    "        # Save checkpoint\n",
    "\n",
    "        if epoch % save_at_epoch == 0:\n",
    "            checkpoint = {\n",
    "                'epoch': epoch,\n",
    "                'model_state_dict': model.state_dict(),\n",
    "                'optimizer_state_dict': optimizer.state_dict(),\n",
    "                'train_losses': train_losses,\n",
    "                'val_losses': val_losses\n",
    "            }\n",
    "            torch.save(checkpoint, f'../Models/SimpleCNN/checkpoint_{epoch}.pth')\n",
    "\n",
    "    return model, train_losses, val_losses, train_accuracies, val_accuracies\n"
   ]
  },
  {
   "cell_type": "code",
   "execution_count": 10,
   "metadata": {},
   "outputs": [
    {
     "name": "stderr",
     "output_type": "stream",
     "text": [
      "  0%|          | 0/50 [00:00<?, ?it/s]"
     ]
    },
    {
     "name": "stdout",
     "output_type": "stream",
     "text": [
      "Epoch [1]/[50]. Batch [25]/[25]. Train loss 49.501. Train acc 10.750. Val loss 2.302. Val acc 10.000. Took 99.882 seconds\n",
      "Epoch took 99.88210868835449\n"
     ]
    },
    {
     "name": "stderr",
     "output_type": "stream",
     "text": [
      "  2%|▏         | 1/50 [02:00<1:38:40, 120.83s/it]"
     ]
    },
    {
     "name": "stdout",
     "output_type": "stream",
     "text": [
      "Epoch [2]/[50]. Batch [25]/[25]. Train loss 1.149. Train acc 9.500. "
     ]
    },
    {
     "name": "stderr",
     "output_type": "stream",
     "text": [
      "  4%|▍         | 2/50 [03:39<1:26:15, 107.83s/it]"
     ]
    },
    {
     "name": "stdout",
     "output_type": "stream",
     "text": [
      "Val loss 2.290. Val acc 10.000. Took 98.683 seconds\n",
      "Epoch took 98.68289351463318\n",
      "Epoch [3]/[50]. Batch [25]/[25]. Train loss 0.759. Train acc 10.000. "
     ]
    },
    {
     "name": "stderr",
     "output_type": "stream",
     "text": [
      "  6%|▌         | 3/50 [05:17<1:20:59, 103.39s/it]"
     ]
    },
    {
     "name": "stdout",
     "output_type": "stream",
     "text": [
      "Val loss 2.263. Val acc 10.000. Took 98.105 seconds\n",
      "Epoch took 98.10461497306824\n",
      "Epoch [4]/[50]. Batch [25]/[25]. Train loss 0.563. Train acc 10.250. "
     ]
    },
    {
     "name": "stderr",
     "output_type": "stream",
     "text": [
      "  8%|▊         | 4/50 [06:53<1:17:03, 100.50s/it]"
     ]
    },
    {
     "name": "stdout",
     "output_type": "stream",
     "text": [
      "Val loss 2.268. Val acc 21.000. Took 96.073 seconds\n",
      "Epoch took 96.07255625724792\n",
      "Epoch [5]/[50]. Batch [25]/[25]. Train loss 0.449. Train acc 13.750. "
     ]
    },
    {
     "name": "stderr",
     "output_type": "stream",
     "text": [
      " 10%|█         | 5/50 [08:32<1:15:01, 100.04s/it]"
     ]
    },
    {
     "name": "stdout",
     "output_type": "stream",
     "text": [
      "Val loss 2.254. Val acc 19.000. Took 99.221 seconds\n",
      "Epoch took 99.22141981124878\n",
      "Epoch [6]/[50]. Batch [25]/[25]. Train loss 0.373. Train acc 15.125. "
     ]
    },
    {
     "name": "stderr",
     "output_type": "stream",
     "text": [
      " 12%|█▏        | 6/50 [10:10<1:12:43, 99.17s/it] "
     ]
    },
    {
     "name": "stdout",
     "output_type": "stream",
     "text": [
      "Val loss 2.247. Val acc 13.000. Took 97.477 seconds\n",
      "Epoch took 97.47673511505127\n",
      "Epoch [7]/[50]. Batch [25]/[25]. Train loss 0.319. Train acc 16.000. "
     ]
    },
    {
     "name": "stderr",
     "output_type": "stream",
     "text": [
      " 14%|█▍        | 7/50 [11:55<1:12:20, 100.94s/it]"
     ]
    },
    {
     "name": "stdout",
     "output_type": "stream",
     "text": [
      "Val loss 2.240. Val acc 14.000. Took 104.580 seconds\n",
      "Epoch took 104.58043074607849\n",
      "Epoch [8]/[50]. Batch [25]/[25]. Train loss 0.278. Train acc 17.000. "
     ]
    },
    {
     "name": "stderr",
     "output_type": "stream",
     "text": [
      " 16%|█▌        | 8/50 [13:35<1:10:34, 100.81s/it]"
     ]
    },
    {
     "name": "stdout",
     "output_type": "stream",
     "text": [
      "Val loss 2.238. Val acc 12.000. Took 100.544 seconds\n",
      "Epoch took 100.54449486732483\n",
      "Epoch [9]/[50]. Batch [25]/[25]. Train loss 0.246. Train acc 17.750. "
     ]
    },
    {
     "name": "stderr",
     "output_type": "stream",
     "text": [
      " 18%|█▊        | 9/50 [15:10<1:07:32, 98.84s/it] "
     ]
    },
    {
     "name": "stdout",
     "output_type": "stream",
     "text": [
      "Val loss 2.243. Val acc 14.000. Took 94.504 seconds\n",
      "Epoch took 94.50399732589722\n",
      "Epoch [10]/[50]. Batch [25]/[25]. Train loss 0.222. Train acc 19.250. "
     ]
    },
    {
     "name": "stderr",
     "output_type": "stream",
     "text": [
      " 20%|██        | 10/50 [16:48<1:05:50, 98.76s/it]"
     ]
    },
    {
     "name": "stdout",
     "output_type": "stream",
     "text": [
      "Val loss 2.230. Val acc 19.000. Took 98.588 seconds\n",
      "Epoch took 98.58831930160522\n",
      "Epoch [11]/[50]. Batch [25]/[25]. Train loss 0.200. Train acc 19.875. Val loss 2.224. Val acc 20.000. Took 102.827 seconds\n",
      "Epoch took 102.82715129852295\n"
     ]
    },
    {
     "name": "stderr",
     "output_type": "stream",
     "text": [
      " 22%|██▏       | 11/50 [18:51<1:09:01, 106.19s/it]"
     ]
    },
    {
     "name": "stdout",
     "output_type": "stream",
     "text": [
      "Epoch [12]/[50]. Batch [25]/[25]. Train loss 0.182. Train acc 22.375. "
     ]
    },
    {
     "name": "stderr",
     "output_type": "stream",
     "text": [
      " 24%|██▍       | 12/50 [20:28<1:05:22, 103.22s/it]"
     ]
    },
    {
     "name": "stdout",
     "output_type": "stream",
     "text": [
      "Val loss 2.240. Val acc 12.000. Took 96.388 seconds\n",
      "Epoch took 96.38751268386841\n",
      "Epoch [13]/[50]. Batch [25]/[25]. Train loss 0.168. Train acc 20.625. "
     ]
    },
    {
     "name": "stderr",
     "output_type": "stream",
     "text": [
      " 26%|██▌       | 13/50 [22:01<1:01:48, 100.24s/it]"
     ]
    },
    {
     "name": "stdout",
     "output_type": "stream",
     "text": [
      "Val loss 2.218. Val acc 12.000. Took 93.397 seconds\n",
      "Epoch took 93.3969841003418\n",
      "Epoch [14]/[50]. Batch [25]/[25]. Train loss 0.154. Train acc 21.375. "
     ]
    },
    {
     "name": "stderr",
     "output_type": "stream",
     "text": [
      " 28%|██▊       | 14/50 [23:36<59:10, 98.62s/it]   "
     ]
    },
    {
     "name": "stdout",
     "output_type": "stream",
     "text": [
      "Val loss 2.217. Val acc 17.000. Took 94.888 seconds\n",
      "Epoch took 94.88848900794983\n",
      "Epoch [15]/[50]. Batch [25]/[25]. Train loss 0.142. Train acc 25.750. "
     ]
    },
    {
     "name": "stderr",
     "output_type": "stream",
     "text": [
      " 30%|███       | 15/50 [25:14<57:27, 98.50s/it]"
     ]
    },
    {
     "name": "stdout",
     "output_type": "stream",
     "text": [
      "Val loss 2.219. Val acc 17.000. Took 98.212 seconds\n",
      "Epoch took 98.21189761161804\n",
      "Epoch [16]/[50]. Batch [25]/[25]. Train loss 0.132. Train acc 24.375. "
     ]
    },
    {
     "name": "stderr",
     "output_type": "stream",
     "text": [
      " 32%|███▏      | 16/50 [26:58<56:45, 100.17s/it]"
     ]
    },
    {
     "name": "stdout",
     "output_type": "stream",
     "text": [
      "Val loss 2.230. Val acc 15.000. Took 104.042 seconds\n",
      "Epoch took 104.0418643951416\n",
      "Epoch [17]/[50]. Batch [25]/[25]. Train loss 0.123. Train acc 27.625. "
     ]
    },
    {
     "name": "stderr",
     "output_type": "stream",
     "text": [
      " 34%|███▍      | 17/50 [28:38<55:02, 100.07s/it]"
     ]
    },
    {
     "name": "stdout",
     "output_type": "stream",
     "text": [
      "Val loss 2.224. Val acc 22.000. Took 99.834 seconds\n",
      "Epoch took 99.83436107635498\n",
      "Epoch [18]/[50]. Batch [25]/[25]. Train loss 0.114. Train acc 26.375. "
     ]
    },
    {
     "name": "stderr",
     "output_type": "stream",
     "text": [
      " 36%|███▌      | 18/50 [30:20<53:37, 100.56s/it]"
     ]
    },
    {
     "name": "stdout",
     "output_type": "stream",
     "text": [
      "Val loss 2.255. Val acc 11.000. Took 101.700 seconds\n",
      "Epoch took 101.70045232772827\n",
      "Epoch [19]/[50]. Batch [25]/[25]. Train loss 0.108. Train acc 27.000. "
     ]
    },
    {
     "name": "stderr",
     "output_type": "stream",
     "text": [
      " 38%|███▊      | 19/50 [32:05<52:43, 102.05s/it]"
     ]
    },
    {
     "name": "stdout",
     "output_type": "stream",
     "text": [
      "Val loss 2.269. Val acc 11.000. Took 105.517 seconds\n",
      "Epoch took 105.51745271682739\n",
      "Epoch [20]/[50]. Batch [25]/[25]. Train loss 0.102. Train acc 28.125. "
     ]
    },
    {
     "name": "stderr",
     "output_type": "stream",
     "text": [
      " 40%|████      | 20/50 [33:51<51:34, 103.15s/it]"
     ]
    },
    {
     "name": "stdout",
     "output_type": "stream",
     "text": [
      "Val loss 2.232. Val acc 15.000. Took 105.721 seconds\n",
      "Epoch took 105.7208149433136\n",
      "Epoch [21]/[50]. Batch [25]/[25]. Train loss 0.095. Train acc 29.875. Val loss 2.287. Val acc 13.000. Took 99.597 seconds\n",
      "Epoch took 99.59727501869202\n"
     ]
    },
    {
     "name": "stderr",
     "output_type": "stream",
     "text": [
      " 42%|████▏     | 21/50 [35:50<52:07, 107.83s/it]"
     ]
    },
    {
     "name": "stdout",
     "output_type": "stream",
     "text": [
      "Epoch [22]/[50]. Batch [25]/[25]. Train loss 0.089. Train acc 31.875. "
     ]
    },
    {
     "name": "stderr",
     "output_type": "stream",
     "text": [
      " 44%|████▍     | 22/50 [37:25<48:33, 104.06s/it]"
     ]
    },
    {
     "name": "stdout",
     "output_type": "stream",
     "text": [
      "Val loss 2.261. Val acc 18.000. Took 95.282 seconds\n",
      "Epoch took 95.28164172172546\n",
      "Epoch [23]/[50]. Batch [25]/[25]. Train loss 0.085. Train acc 32.500. "
     ]
    },
    {
     "name": "stderr",
     "output_type": "stream",
     "text": [
      " 46%|████▌     | 23/50 [39:02<45:50, 101.87s/it]"
     ]
    },
    {
     "name": "stdout",
     "output_type": "stream",
     "text": [
      "Val loss 2.274. Val acc 12.000. Took 96.765 seconds\n",
      "Epoch took 96.7646234035492\n",
      "Epoch [24]/[50]. Batch [25]/[25]. Train loss 0.079. Train acc 34.625. "
     ]
    },
    {
     "name": "stderr",
     "output_type": "stream",
     "text": [
      " 48%|████▊     | 24/50 [41:40<51:27, 118.75s/it]"
     ]
    },
    {
     "name": "stdout",
     "output_type": "stream",
     "text": [
      "Val loss 2.319. Val acc 14.000. Took 158.108 seconds\n",
      "Epoch took 158.107825756073\n",
      "Epoch [25]/[50]. Batch [25]/[25]. Train loss 0.075. Train acc 34.750. "
     ]
    },
    {
     "name": "stderr",
     "output_type": "stream",
     "text": [
      " 50%|█████     | 25/50 [44:33<56:19, 135.19s/it]"
     ]
    },
    {
     "name": "stdout",
     "output_type": "stream",
     "text": [
      "Val loss 2.339. Val acc 13.000. Took 173.544 seconds\n",
      "Epoch took 173.54388642311096\n",
      "Epoch [26]/[50]. Batch [25]/[25]. Train loss 0.071. Train acc 35.625. "
     ]
    },
    {
     "name": "stderr",
     "output_type": "stream",
     "text": [
      " 52%|█████▏    | 26/50 [46:28<51:36, 129.04s/it]"
     ]
    },
    {
     "name": "stdout",
     "output_type": "stream",
     "text": [
      "Val loss 2.350. Val acc 12.000. Took 114.676 seconds\n",
      "Epoch took 114.67596650123596\n",
      "Epoch [27]/[50]. Batch [25]/[25]. Train loss 0.067. Train acc 37.125. "
     ]
    },
    {
     "name": "stderr",
     "output_type": "stream",
     "text": [
      " 54%|█████▍    | 27/50 [47:59<45:03, 117.53s/it]"
     ]
    },
    {
     "name": "stdout",
     "output_type": "stream",
     "text": [
      "Val loss 2.319. Val acc 15.000. Took 90.691 seconds\n",
      "Epoch took 90.6914701461792\n",
      "Epoch [28]/[50]. Batch [25]/[25]. Train loss 0.064. Train acc 38.875. "
     ]
    },
    {
     "name": "stderr",
     "output_type": "stream",
     "text": [
      " 56%|█████▌    | 28/50 [49:28<40:00, 109.11s/it]"
     ]
    },
    {
     "name": "stdout",
     "output_type": "stream",
     "text": [
      "Val loss 2.357. Val acc 13.000. Took 89.451 seconds\n",
      "Epoch took 89.45121479034424\n",
      "Epoch [29]/[50]. Batch [25]/[25]. Train loss 0.060. Train acc 40.375. "
     ]
    },
    {
     "name": "stderr",
     "output_type": "stream",
     "text": [
      " 58%|█████▊    | 29/50 [51:03<36:41, 104.82s/it]"
     ]
    },
    {
     "name": "stdout",
     "output_type": "stream",
     "text": [
      "Val loss 2.384. Val acc 14.000. Took 94.830 seconds\n",
      "Epoch took 94.82993364334106\n",
      "Epoch [30]/[50]. Batch [25]/[25]. Train loss 0.057. Train acc 43.125. "
     ]
    },
    {
     "name": "stderr",
     "output_type": "stream",
     "text": [
      " 60%|██████    | 30/50 [52:34<33:31, 100.55s/it]"
     ]
    },
    {
     "name": "stdout",
     "output_type": "stream",
     "text": [
      "Val loss 2.425. Val acc 14.000. Took 90.582 seconds\n",
      "Epoch took 90.58160591125488\n",
      "Epoch [31]/[50]. Batch [25]/[25]. Train loss 0.055. Train acc 42.250. Val loss 2.490. Val acc 15.000. Took 99.191 seconds\n",
      "Epoch took 99.1906566619873\n"
     ]
    },
    {
     "name": "stderr",
     "output_type": "stream",
     "text": [
      " 62%|██████▏   | 31/50 [54:32<33:29, 105.76s/it]"
     ]
    },
    {
     "name": "stdout",
     "output_type": "stream",
     "text": [
      "Epoch [32]/[50]. Batch [25]/[25]. Train loss 0.052. Train acc 44.500. "
     ]
    },
    {
     "name": "stderr",
     "output_type": "stream",
     "text": [
      " 64%|██████▍   | 32/50 [56:11<31:10, 103.92s/it]"
     ]
    },
    {
     "name": "stdout",
     "output_type": "stream",
     "text": [
      "Val loss 2.533. Val acc 11.000. Took 99.621 seconds\n",
      "Epoch took 99.62077331542969\n",
      "Epoch [33]/[50]. Batch [25]/[25]. Train loss 0.050. Train acc 44.750. "
     ]
    },
    {
     "name": "stderr",
     "output_type": "stream",
     "text": [
      " 66%|██████▌   | 33/50 [57:51<29:07, 102.77s/it]"
     ]
    },
    {
     "name": "stdout",
     "output_type": "stream",
     "text": [
      "Val loss 2.470. Val acc 16.000. Took 100.070 seconds\n",
      "Epoch took 100.0700831413269\n",
      "Epoch [34]/[50]. Batch [25]/[25]. Train loss 0.047. Train acc 44.625. "
     ]
    },
    {
     "name": "stderr",
     "output_type": "stream",
     "text": [
      " 68%|██████▊   | 34/50 [59:30<27:04, 101.53s/it]"
     ]
    },
    {
     "name": "stdout",
     "output_type": "stream",
     "text": [
      "Val loss 2.528. Val acc 15.000. Took 98.638 seconds\n",
      "Epoch took 98.63782715797424\n",
      "Epoch [35]/[50]. Batch [25]/[25]. Train loss 0.045. Train acc 45.500. "
     ]
    },
    {
     "name": "stderr",
     "output_type": "stream",
     "text": [
      " 70%|███████   | 35/50 [1:01:08<25:06, 100.44s/it]"
     ]
    },
    {
     "name": "stdout",
     "output_type": "stream",
     "text": [
      "Val loss 2.534. Val acc 17.000. Took 97.898 seconds\n",
      "Epoch took 97.89795136451721\n",
      "Epoch [36]/[50]. Batch [25]/[25]. Train loss 0.044. Train acc 46.750. "
     ]
    },
    {
     "name": "stderr",
     "output_type": "stream",
     "text": [
      " 72%|███████▏  | 36/50 [1:02:50<23:32, 100.87s/it]"
     ]
    },
    {
     "name": "stdout",
     "output_type": "stream",
     "text": [
      "Val loss 2.451. Val acc 17.000. Took 101.868 seconds\n",
      "Epoch took 101.8675811290741\n",
      "Epoch [37]/[50]. Batch [25]/[25]. Train loss 0.041. Train acc 47.375. "
     ]
    },
    {
     "name": "stderr",
     "output_type": "stream",
     "text": [
      " 74%|███████▍  | 37/50 [1:04:29<21:44, 100.37s/it]"
     ]
    },
    {
     "name": "stdout",
     "output_type": "stream",
     "text": [
      "Val loss 2.601. Val acc 11.000. Took 99.198 seconds\n",
      "Epoch took 99.19760346412659\n",
      "Epoch [38]/[50]. Batch [25]/[25]. Train loss 0.039. Train acc 50.375. "
     ]
    },
    {
     "name": "stderr",
     "output_type": "stream",
     "text": [
      " 76%|███████▌  | 38/50 [1:06:08<20:01, 100.13s/it]"
     ]
    },
    {
     "name": "stdout",
     "output_type": "stream",
     "text": [
      "Val loss 2.569. Val acc 15.000. Took 99.563 seconds\n",
      "Epoch took 99.5634355545044\n",
      "Epoch [39]/[50]. Batch [25]/[25]. Train loss 0.036. Train acc 52.250. "
     ]
    },
    {
     "name": "stderr",
     "output_type": "stream",
     "text": [
      " 78%|███████▊  | 39/50 [1:07:47<18:16, 99.66s/it] "
     ]
    },
    {
     "name": "stdout",
     "output_type": "stream",
     "text": [
      "Val loss 2.658. Val acc 15.000. Took 98.558 seconds\n",
      "Epoch took 98.5575635433197\n",
      "Epoch [40]/[50]. Batch [25]/[25]. Train loss 0.035. Train acc 52.500. "
     ]
    },
    {
     "name": "stderr",
     "output_type": "stream",
     "text": [
      " 80%|████████  | 40/50 [1:09:25<16:32, 99.21s/it]"
     ]
    },
    {
     "name": "stdout",
     "output_type": "stream",
     "text": [
      "Val loss 2.707. Val acc 15.000. Took 98.181 seconds\n",
      "Epoch took 98.18124532699585\n",
      "Epoch [41]/[50]. Batch [25]/[25]. Train loss 0.033. Train acc 55.875. Val loss 2.732. Val acc 15.000. Took 99.937 seconds\n",
      "Epoch took 99.93661093711853\n"
     ]
    },
    {
     "name": "stderr",
     "output_type": "stream",
     "text": [
      " 82%|████████▏ | 41/50 [1:11:22<15:41, 104.61s/it]"
     ]
    },
    {
     "name": "stdout",
     "output_type": "stream",
     "text": [
      "Epoch [42]/[50]. Batch [25]/[25]. Train loss 0.032. Train acc 56.000. "
     ]
    },
    {
     "name": "stderr",
     "output_type": "stream",
     "text": [
      " 84%|████████▍ | 42/50 [1:13:01<13:43, 102.91s/it]"
     ]
    },
    {
     "name": "stdout",
     "output_type": "stream",
     "text": [
      "Val loss 2.777. Val acc 13.000. Took 98.922 seconds\n",
      "Epoch took 98.92234539985657\n",
      "Epoch [43]/[50]. Batch [25]/[25]. Train loss 0.030. Train acc 56.750. "
     ]
    },
    {
     "name": "stderr",
     "output_type": "stream",
     "text": [
      " 86%|████████▌ | 43/50 [1:14:39<11:48, 101.24s/it]"
     ]
    },
    {
     "name": "stdout",
     "output_type": "stream",
     "text": [
      "Val loss 2.785. Val acc 12.000. Took 97.347 seconds\n",
      "Epoch took 97.34693503379822\n",
      "Epoch [44]/[50]. Batch [25]/[25]. Train loss 0.028. Train acc 59.125. "
     ]
    },
    {
     "name": "stderr",
     "output_type": "stream",
     "text": [
      " 88%|████████▊ | 44/50 [1:16:16<10:00, 100.14s/it]"
     ]
    },
    {
     "name": "stdout",
     "output_type": "stream",
     "text": [
      "Val loss 2.824. Val acc 14.000. Took 97.571 seconds\n",
      "Epoch took 97.57124781608582\n",
      "Epoch [45]/[50]. Batch [25]/[25]. Train loss 0.027. Train acc 60.375. "
     ]
    },
    {
     "name": "stderr",
     "output_type": "stream",
     "text": [
      " 90%|█████████ | 45/50 [1:17:50<08:10, 98.13s/it] "
     ]
    },
    {
     "name": "stdout",
     "output_type": "stream",
     "text": [
      "Val loss 2.939. Val acc 11.000. Took 93.426 seconds\n",
      "Epoch took 93.42573952674866\n",
      "Epoch [46]/[50]. Batch [25]/[25]. Train loss 0.025. Train acc 60.125. "
     ]
    },
    {
     "name": "stderr",
     "output_type": "stream",
     "text": [
      " 92%|█████████▏| 46/50 [1:19:23<06:27, 96.76s/it]"
     ]
    },
    {
     "name": "stdout",
     "output_type": "stream",
     "text": [
      "Val loss 2.962. Val acc 11.000. Took 93.588 seconds\n",
      "Epoch took 93.58764743804932\n",
      "Epoch [47]/[50]. Batch [25]/[25]. Train loss 0.024. Train acc 61.750. "
     ]
    },
    {
     "name": "stderr",
     "output_type": "stream",
     "text": [
      " 94%|█████████▍| 47/50 [1:20:57<04:47, 95.80s/it]"
     ]
    },
    {
     "name": "stdout",
     "output_type": "stream",
     "text": [
      "Val loss 3.061. Val acc 12.000. Took 93.546 seconds\n",
      "Epoch took 93.54607510566711\n",
      "Epoch [48]/[50]. Batch [25]/[25]. Train loss 0.023. Train acc 63.625. "
     ]
    },
    {
     "name": "stderr",
     "output_type": "stream",
     "text": [
      " 96%|█████████▌| 48/50 [1:22:30<03:10, 95.16s/it]"
     ]
    },
    {
     "name": "stdout",
     "output_type": "stream",
     "text": [
      "Val loss 2.995. Val acc 19.000. Took 93.654 seconds\n",
      "Epoch took 93.65426540374756\n",
      "Epoch [49]/[50]. Batch [25]/[25]. Train loss 0.022. Train acc 65.250. "
     ]
    },
    {
     "name": "stderr",
     "output_type": "stream",
     "text": [
      " 98%|█████████▊| 49/50 [1:24:08<01:35, 95.96s/it]"
     ]
    },
    {
     "name": "stdout",
     "output_type": "stream",
     "text": [
      "Val loss 3.157. Val acc 12.000. Took 97.845 seconds\n",
      "Epoch took 97.84527683258057\n",
      "Epoch [50]/[50]. Batch [25]/[25]. Train loss 0.020. Train acc 67.250. "
     ]
    },
    {
     "name": "stderr",
     "output_type": "stream",
     "text": [
      "100%|██████████| 50/50 [1:25:42<00:00, 102.85s/it]"
     ]
    },
    {
     "name": "stdout",
     "output_type": "stream",
     "text": [
      "Val loss 3.295. Val acc 10.000. Took 93.913 seconds\n",
      "Epoch took 93.91275143623352\n"
     ]
    },
    {
     "name": "stderr",
     "output_type": "stream",
     "text": [
      "\n"
     ]
    },
    {
     "data": {
      "image/png": "[encoded data removed]",
      "text/plain": [
       "<Figure size 640x480 with 1 Axes>"
      ]
     },
     "metadata": {},
     "output_type": "display_data"
    },
    {
     "data": {
      "image/png": "[encoded data removed]",
      "text/plain": [
       "<Figure size 640x480 with 1 Axes>"
      ]
     },
     "metadata": {},
     "output_type": "display_data"
    }
   ],
   "source": [
    "from time import time\n",
    "print_every = 25\n",
    "num_epoch = 50\n",
    "\n",
    "model, train_losses, val_losses, train_accuracies, val_accuracies = train(\n",
    "    model=model,\n",
    "    criterion=criterion,\n",
    "    optimizer=optimizer,\n",
    "    train_dataloader=train_dataloader,\n",
    "    val_dataloader=val_dataloader,\n",
    "    print_every=print_every,\n",
    "    save_at_epoch=10,\n",
    "    num_epoch=num_epoch\n",
    ")"
   ]
  },
  {
   "cell_type": "code",
   "execution_count": 11,
   "metadata": {},
   "outputs": [
    {
     "data": {
      "image/png": "[encoded data removed]",
      "text/plain": [
       "<Figure size 640x480 with 1 Axes>"
      ]
     },
     "metadata": {},
     "output_type": "display_data"
    },
    {
     "data": {
      "image/png": "[encoded data removed]",
      "text/plain": [
       "<Figure size 640x480 with 1 Axes>"
      ]
     },
     "metadata": {},
     "output_type": "display_data"
    }
   ],
   "source": [
    "plt.plot(train_losses, label='Training loss')\n",
    "plt.plot(val_losses, label='Validation loss')\n",
    "plt.legend(frameon=False)\n",
    "plt.savefig('../Output/SimpleCNN/simplecnn_loss.png')\n",
    "plt.show()\n",
    "\n",
    "plt.plot(train_accuracies, label='Training accuracy')\n",
    "plt.plot(val_accuracies, label='Validation accuracy')\n",
    "plt.legend(frameon=False)\n",
    "plt.savefig('../Output/SimpleCNN/simplecnn_accuracy.png')\n",
    "plt.show()"
   ]
  },
  {
   "cell_type": "code",
   "execution_count": 12,
   "metadata": {},
   "outputs": [
    {
     "ename": "KeyError",
     "evalue": "3",
     "output_type": "error",
     "traceback": [
      "\u001b[0;31m---------------------------------------------------------------------------\u001b[0m",
      "\u001b[0;31mKeyError\u001b[0m                                  Traceback (most recent call last)",
      "Cell \u001b[0;32mIn[12], line 25\u001b[0m\n\u001b[1;32m     22\u001b[0m     y_pred\u001b[39m.\u001b[39mextend(final_preds\u001b[39m.\u001b[39mcpu()\u001b[39m.\u001b[39mtolist())\n\u001b[1;32m     24\u001b[0m \u001b[39m# Map predicted indices back to class names\u001b[39;00m\n\u001b[0;32m---> 25\u001b[0m y_pred_labels \u001b[39m=\u001b[39m [genre_dict[pred] \u001b[39mfor\u001b[39;00m pred \u001b[39min\u001b[39;00m y_pred]\n\u001b[1;32m     27\u001b[0m \u001b[39m# Calculate class-wise accuracy\u001b[39;00m\n\u001b[1;32m     28\u001b[0m class_correct \u001b[39m=\u001b[39m \u001b[39mlist\u001b[39m(\u001b[39m0.\u001b[39m \u001b[39mfor\u001b[39;00m i \u001b[39min\u001b[39;00m \u001b[39mrange\u001b[39m(\u001b[39mlen\u001b[39m(classes)))\n",
      "Cell \u001b[0;32mIn[12], line 25\u001b[0m, in \u001b[0;36m<listcomp>\u001b[0;34m(.0)\u001b[0m\n\u001b[1;32m     22\u001b[0m     y_pred\u001b[39m.\u001b[39mextend(final_preds\u001b[39m.\u001b[39mcpu()\u001b[39m.\u001b[39mtolist())\n\u001b[1;32m     24\u001b[0m \u001b[39m# Map predicted indices back to class names\u001b[39;00m\n\u001b[0;32m---> 25\u001b[0m y_pred_labels \u001b[39m=\u001b[39m [genre_dict[pred] \u001b[39mfor\u001b[39;00m pred \u001b[39min\u001b[39;00m y_pred]\n\u001b[1;32m     27\u001b[0m \u001b[39m# Calculate class-wise accuracy\u001b[39;00m\n\u001b[1;32m     28\u001b[0m class_correct \u001b[39m=\u001b[39m \u001b[39mlist\u001b[39m(\u001b[39m0.\u001b[39m \u001b[39mfor\u001b[39;00m i \u001b[39min\u001b[39;00m \u001b[39mrange\u001b[39m(\u001b[39mlen\u001b[39m(classes)))\n",
      "\u001b[0;31mKeyError\u001b[0m: 3"
     ]
    }
   ],
   "source": [
    "import torch\n",
    "from sklearn.metrics import confusion_matrix, accuracy_score\n",
    "import seaborn as sns\n",
    "import matplotlib.pyplot as plt\n",
    "\n",
    "# Assuming 'device' is already defined (e.g., 'cuda' or 'cpu')\n",
    "# Assuming 'resnet' is your trained model\n",
    "# Assuming 'genre_dict' maps indices to genre names\n",
    "\n",
    "y_test = []\n",
    "y_pred = []\n",
    "\n",
    "# Iterate through the test dataloader\n",
    "for img, label in test_dataloader:\n",
    "    img = img.to(device)\n",
    "    model.eval()\n",
    "    with torch.no_grad():\n",
    "        prediction = model(img)\n",
    "    \n",
    "    final_preds = torch.max(prediction, dim=1)[1]\n",
    "    y_test.extend(label.tolist())\n",
    "    y_pred.extend(final_preds.cpu().tolist())\n",
    "\n",
    "# Map predicted indices back to class names\n",
    "y_pred_labels = [genre_dict[pred] for pred in y_pred]\n",
    "\n",
    "# Calculate class-wise accuracy\n",
    "class_correct = list(0. for i in range(len(classes)))\n",
    "class_total = list(0. for i in range(len(classes)))\n",
    "classwise_accuracy = {}\n",
    "\n",
    "conf_matrix = confusion_matrix(y_test, y_pred)\n",
    "for i in range(len(y_test)):\n",
    "    label = y_test[i]\n",
    "    pred = y_pred[i]\n",
    "    if label == pred:\n",
    "        class_correct[label] += 1\n",
    "    class_total[label] += 1\n",
    "\n",
    "for i in range(len(classes)):\n",
    "    classwise_accuracy[genre_dict[i]] = 100 * class_correct[i] / class_total[i] if class_total[i] > 0 else 0\n",
    "\n",
    "# Print Class-wise accuracy\n",
    "for class_name, accuracy in classwise_accuracy.items():\n",
    "    print(f'Accuracy of {class_name} : {accuracy:.2f} %')\n",
    "\n",
    "# Plotting the confusion matrix\n",
    "plt.figure(figsize=(10,8))\n",
    "sns.heatmap(conf_matrix, annot=True, fmt='d', xticklabels=classes, yticklabels=classes)\n",
    "plt.ylabel('True Label')\n",
    "plt.xlabel('Predicted Label')\n",
    "plt.title('Confusion Matrix')\n",
    "plt.show()"
   ]
  },
  {
   "cell_type": "code",
   "execution_count": null,
   "metadata": {},
   "outputs": [],
   "source": []
  }
 ],
 "metadata": {
  "kernelspec": {
   "display_name": "MGC",
   "language": "python",
   "name": "python3"
  },
  "language_info": {
   "codemirror_mode": {
    "name": "ipython",
    "version": 3
   },
   "file_extension": ".py",
   "mimetype": "text/x-python",
   "name": "python",
   "nbconvert_exporter": "python",
   "pygments_lexer": "ipython3",
   "version": "3.8.18"
  },
  "orig_nbformat": 4
 },
 "nbformat": 4,
 "nbformat_minor": 2
}
