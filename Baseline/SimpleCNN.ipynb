{
 "cells": [
  {
   "cell_type": "code",
   "execution_count": 1,
   "metadata": {},
   "outputs": [
    {
     "name": "stderr",
     "output_type": "stream",
     "text": [
      "2023-11-18 01:34:41.849209: I tensorflow/core/platform/cpu_feature_guard.cc:182] This TensorFlow binary is optimized to use available CPU instructions in performance-critical operations.\n",
      "To enable the following instructions: SSE4.1 SSE4.2 AVX AVX2 FMA, in other operations, rebuild TensorFlow with the appropriate compiler flags.\n"
     ]
    }
   ],
   "source": [
    "import pandas as pd\n",
    "from sklearn import preprocessing\n",
    "from sklearn.decomposition import PCA\n",
    "from sklearn.utils import shuffle\n",
    "import seaborn as sns\n",
    "import matplotlib.pyplot as plt\n",
    "\n",
    "from sklearn.neighbors import KNeighborsClassifier\n",
    "from sklearn.model_selection import train_test_split\n",
    "from sklearn.metrics import confusion_matrix, accuracy_score\n",
    "from sklearn.naive_bayes import GaussianNB\n",
    "from sklearn.linear_model import SGDClassifier, LogisticRegression\n",
    "from sklearn.neighbors import KNeighborsClassifier\n",
    "from sklearn.tree import DecisionTreeClassifier\n",
    "from sklearn.ensemble import RandomForestClassifier\n",
    "from sklearn.svm import SVC\n",
    "from sklearn.neural_network import MLPClassifier\n",
    "from xgboost import XGBClassifier, XGBRFClassifier\n",
    "\n",
    "import librosa\n",
    "import librosa.display\n",
    "import os\n",
    "import logging\n",
    "import json\n",
    "import numpy as np\n",
    "import csv\n",
    "from tqdm import tqdm\n",
    "import torch\n",
    "import time\n",
    "import torchvision\n",
    "import torchvision.transforms as transforms\n",
    "import torch.optim as optim\n",
    "import torch.nn as nn\n",
    "import torch.nn.functional as F\n",
    "import soundfile as sf\n",
    "from torchvision import datasets\n",
    "from math import floor, ceil\n",
    "\n",
    "import tensorflow as tf\n",
    "import tensorflow.keras as keras\n",
    "from tensorflow.keras import Sequential\n",
    "from tensorflow.keras import layers\n",
    "from tensorflow.keras.layers import Conv2D, BatchNormalization, Dropout, Flatten, MaxPooling2D, Input, Activation\n",
    "\n",
    "\n",
    "import warnings\n",
    "warnings.filterwarnings(\"ignore\")\n",
    "logging.disable(logging.WARNING)\n",
    "tf.get_logger().setLevel(logging.ERROR)\n",
    "os.environ['TF_CPP_MIN_LOG_LEVEL'] = '2' "
   ]
  },
  {
   "cell_type": "code",
   "execution_count": 2,
   "metadata": {},
   "outputs": [
    {
     "name": "stdout",
     "output_type": "stream",
     "text": [
      "2.1.0\n"
     ]
    }
   ],
   "source": [
    "import torch\n",
    "print(torch.__version__)\n",
    "%matplotlib inline"
   ]
  },
  {
   "cell_type": "code",
   "execution_count": 3,
   "metadata": {},
   "outputs": [],
   "source": [
    "path = \"../Data\""
   ]
  },
  {
   "cell_type": "code",
   "execution_count": 4,
   "metadata": {},
   "outputs": [
    {
     "data": {
      "text/plain": [
       "46"
      ]
     },
     "execution_count": 4,
     "metadata": {},
     "output_type": "execute_result"
    }
   ],
   "source": [
    "import gc\n",
    "gc.collect()"
   ]
  },
  {
   "cell_type": "code",
   "execution_count": 5,
   "metadata": {},
   "outputs": [],
   "source": [
    "seed = 42\n",
    "np.random.seed(seed)\n",
    "\n",
    "path = \"../Data\"\n",
    "path_audio_files = path + \"/genres_original/\"\n",
    "path_imgs = \"../Data/images_original/\"\n",
    "batch_size = 32\n",
    "hop_length = 512\n",
    "n_fft = 2048\n",
    "device = 'cuda' if torch.cuda.is_available() else 'cpu'\n",
    "\n",
    "genre_dict = {\"blues\":0,\"classical\":1,\"country\":2,\"disco\":3,\"hiphop\":4,\"jazz\":5,\"metal\":6,\"pop\":7,\"reggae\":8,\"rock\":9}"
   ]
  },
  {
   "cell_type": "code",
   "execution_count": 6,
   "metadata": {},
   "outputs": [],
   "source": [
    "class SimpleCNN(nn.Module):\n",
    "    def __init__(self, num_classes):\n",
    "        super(SimpleCNN, self).__init__()\n",
    "        # Convolutional layers\n",
    "        self.conv1 = nn.Conv2d(in_channels=3, out_channels=32, kernel_size=3, padding=1)\n",
    "        self.conv2 = nn.Conv2d(in_channels=32, out_channels=64, kernel_size=3, padding=1)\n",
    "        self.pool = nn.MaxPool2d(kernel_size=2, stride=2)\n",
    "\n",
    "        # Fully connected layers\n",
    "        self.fc1 = nn.Linear(497664, 512)  # Adjust the input features to match your data\n",
    "        self.fc2 = nn.Linear(512, num_classes)\n",
    "\n",
    "    def forward(self, x):\n",
    "        # Convolutional layers with ReLU and pooling\n",
    "        x = self.pool(F.relu(self.conv1(x)))\n",
    "        x = self.pool(F.relu(self.conv2(x)))\n",
    "        # Flatten the tensor for the fully connected layer\n",
    "        x = x.view(x.size(0), -1)\n",
    "        # Fully connected layers with ReLU\n",
    "        x = F.relu(self.fc1(x))\n",
    "        x = self.fc2(x)\n",
    "\n",
    "        return x"
   ]
  },
  {
   "cell_type": "code",
   "execution_count": 7,
   "metadata": {},
   "outputs": [
    {
     "name": "stdout",
     "output_type": "stream",
     "text": [
      "Classes: ['blues', 'classical', 'country', 'disco', 'hiphop', 'jazz', 'metal', 'pop', 'reggae', 'rock']\n",
      "Number of Train Samples: 800\n",
      "Number of Validation Samples: 100\n",
      "Number of Test Samples: 99\n"
     ]
    }
   ],
   "source": [
    "import torch\n",
    "from torchvision import datasets, transforms\n",
    "\n",
    "# Define Transforms\n",
    "train_transforms = transforms.Compose([\n",
    "    #transforms.Resize(224),\n",
    "    transforms.ToTensor(),\n",
    "    transforms.Normalize(mean=[0.4931, 0.9151, 0.9960], std=[0.4495, 0.1716, 0.0602])\n",
    "])\n",
    "\n",
    "test_transforms = transforms.Compose([\n",
    "    #transforms.Resize(224),\n",
    "    transforms.ToTensor(),\n",
    "    transforms.Normalize(mean=[0.4931, 0.9151, 0.9960], std=[0.4495, 0.1716, 0.0602])\n",
    "])\n",
    "\n",
    "# Paths to the train, validation, and test folders\n",
    "train_path = '../Data/train/images_original'  # Update this path\n",
    "val_path = '../Data/val/images_original'      # Update this path\n",
    "test_path = '../Data/test/images_original'    # Update this path\n",
    "\n",
    "# Load the data from folders\n",
    "train_dataset = datasets.ImageFolder(train_path, transform=train_transforms)\n",
    "val_dataset = datasets.ImageFolder(val_path, transform=test_transforms)\n",
    "test_dataset = datasets.ImageFolder(test_path, transform=test_transforms)\n",
    "\n",
    "# Batch Size (Define it if not already defined)\n",
    "batch_size = 32  # Update this as per your requirement\n",
    "\n",
    "# Make DataLoaders\n",
    "train_dataloader = torch.utils.data.DataLoader(\n",
    "    dataset=train_dataset, \n",
    "    batch_size=batch_size,\n",
    "    shuffle=True\n",
    ")\n",
    "\n",
    "val_dataloader = torch.utils.data.DataLoader(\n",
    "    dataset=val_dataset,\n",
    "    batch_size=batch_size,\n",
    "    shuffle=False\n",
    ")\n",
    "\n",
    "test_dataloader = torch.utils.data.DataLoader(\n",
    "    dataset=test_dataset,\n",
    "    batch_size=batch_size,\n",
    "    shuffle=False\n",
    ")\n",
    "\n",
    "# Classes\n",
    "classes = train_dataset.classes\n",
    "print(f\"Classes: {classes}\")\n",
    "\n",
    "# Print the number of samples in each set\n",
    "print(f\"Number of Train Samples: {len(train_dataset)}\")\n",
    "print(f\"Number of Validation Samples: {len(val_dataset)}\")\n",
    "print(f\"Number of Test Samples: {len(test_dataset)}\")"
   ]
  },
  {
   "cell_type": "code",
   "execution_count": 8,
   "metadata": {},
   "outputs": [],
   "source": [
    "# Number of classes (adjust this based on your dataset)\n",
    "num_classes = len(classes)\n",
    "\n",
    "# Create the model instance\n",
    "model = SimpleCNN(num_classes)\n",
    "\n",
    "# Define the Loss and Optimizer\n",
    "criterion = nn.CrossEntropyLoss()\n",
    "optimizer = torch.optim.Adam(model.parameters(), lr=0.001)"
   ]
  },
  {
   "cell_type": "code",
   "execution_count": 9,
   "metadata": {},
   "outputs": [],
   "source": [
    "def train(model, criterion, optimizer, train_dataloader, val_dataloader, print_every, num_epoch, save_at_epoch, checkpoint_path=None):\n",
    "\n",
    "    steps = 0\n",
    "    train_losses, val_losses = [], []\n",
    "    train_accuracies, val_accuracies = [], []\n",
    "    start_epoch = 0\n",
    "\n",
    "    model.to(device)\n",
    "\n",
    "    # Load checkpoint if provided\n",
    "    if checkpoint_path:\n",
    "        checkpoint = torch.load(checkpoint_path)\n",
    "        model.load_state_dict(checkpoint['model_state_dict'])\n",
    "        optimizer.load_state_dict(checkpoint['optimizer_state_dict'])\n",
    "        start_epoch = checkpoint['epoch']\n",
    "        train_losses = checkpoint['train_losses']\n",
    "        val_losses = checkpoint['val_losses']\n",
    "        train_accuracies = checkpoint.get('train_accuracies', [])\n",
    "        val_accuracies = checkpoint.get('val_accuracies', [])\n",
    "\n",
    "    for epoch in tqdm(range(start_epoch, num_epoch)):\n",
    "        running_loss = 0\n",
    "        correct_train = 0\n",
    "        total_train = 0\n",
    "        start_time = time()\n",
    "        iter_time = time()\n",
    "\n",
    "        model.train()\n",
    "        for i, (images, labels) in enumerate(train_dataloader):\n",
    "            steps += 1\n",
    "            images = images.to(device)\n",
    "            labels = labels.to(device)\n",
    "\n",
    "            # Forward pass\n",
    "            output = model(images)\n",
    "            loss = criterion(output, labels)\n",
    "\n",
    "            correct_train += (torch.max(output, dim=1)[1] == labels).sum()\n",
    "            total_train += labels.size(0)\n",
    "\n",
    "            # Backward and optimize\n",
    "            optimizer.zero_grad()\n",
    "            loss.backward()\n",
    "            optimizer.step()\n",
    "\n",
    "            running_loss += loss.item()\n",
    "\n",
    "            # Logging\n",
    "            if steps % print_every == 0:\n",
    "                print(f'Epoch [{epoch + 1}]/[{num_epoch}]. Batch [{i + 1}]/[{len(train_dataloader)}].', end=' ')\n",
    "                print(f'Train loss {running_loss / steps:.3f}.', end=' ')\n",
    "                print(f'Train acc {correct_train / total_train * 100:.3f}.', end=' ')\n",
    "        \n",
    "        train_accuracy = correct_train / total_train * 100\n",
    "        train_accuracies.append(train_accuracy)\n",
    "\n",
    "        train_loss = running_loss / len(train_dataloader)\n",
    "        train_losses.append(train_loss)\n",
    "\n",
    "        model.eval()\n",
    "        correct_val, total_val = 0, 0\n",
    "        val_loss = 0\n",
    "\n",
    "        with torch.no_grad():\n",
    "            for images, labels in val_dataloader:\n",
    "                images = images.to(device)\n",
    "                labels = labels.to(device)\n",
    "                output = model(images)\n",
    "                loss = criterion(output, labels)\n",
    "                val_loss += loss.item()\n",
    "                \n",
    "                correct_val += (torch.max(output, dim=1)[1] == labels).sum()\n",
    "                total_val += labels.size(0)\n",
    "\n",
    "        # Validation Accuracy\n",
    "        val_accuracy = correct_val / total_val * 100\n",
    "        val_accuracies.append(val_accuracy)\n",
    "\n",
    "        # Validation Loss\n",
    "        val_loss = val_loss / len(val_dataloader)\n",
    "        val_losses.append(val_loss)\n",
    "\n",
    "        print(f'Val loss {val_loss:.3f}.', end=' ')\n",
    "        print(f'Val acc {val_accuracy:.3f}.', end=' ')\n",
    "        print(f'Took {time() - iter_time:.3f} seconds')\n",
    "        iter_time = time()\n",
    "        \n",
    "        print(f'Epoch took {time() - start_time}')\n",
    "        # Save checkpoint\n",
    "\n",
    "        if epoch % save_at_epoch == 0 or epoch == num_epoch - 1:\n",
    "            checkpoint = {\n",
    "                'epoch': epoch,\n",
    "                'model_state_dict': model.state_dict(),\n",
    "                'optimizer_state_dict': optimizer.state_dict(),\n",
    "                'train_losses': train_losses,\n",
    "                'val_losses': val_losses\n",
    "            }\n",
    "            torch.save(checkpoint, f'../Models/SimpleCNN/checkpoint_{epoch}.pth')\n",
    "\n",
    "    return model, train_losses, val_losses, train_accuracies, val_accuracies\n"
   ]
  },
  {
   "cell_type": "code",
   "execution_count": 10,
   "metadata": {},
   "outputs": [
    {
     "name": "stderr",
     "output_type": "stream",
     "text": [
      "  0%|          | 0/50 [00:00<?, ?it/s]"
     ]
    },
    {
     "name": "stdout",
     "output_type": "stream",
     "text": [
      "Epoch [1]/[50]. Batch [25]/[25]. Train loss 49.501. Train acc 10.750. Val loss 2.302. Val acc 10.000. Took 99.882 seconds\n",
      "Epoch took 99.88210868835449\n"
     ]
    },
    {
     "name": "stderr",
     "output_type": "stream",
     "text": [
      "  2%|▏         | 1/50 [02:00<1:38:40, 120.83s/it]"
     ]
    },
    {
     "name": "stdout",
     "output_type": "stream",
     "text": [
      "Epoch [2]/[50]. Batch [25]/[25]. Train loss 1.149. Train acc 9.500. "
     ]
    },
    {
     "name": "stderr",
     "output_type": "stream",
     "text": [
      "  4%|▍         | 2/50 [03:39<1:26:15, 107.83s/it]"
     ]
    },
    {
     "name": "stdout",
     "output_type": "stream",
     "text": [
      "Val loss 2.290. Val acc 10.000. Took 98.683 seconds\n",
      "Epoch took 98.68289351463318\n",
      "Epoch [3]/[50]. Batch [25]/[25]. Train loss 0.759. Train acc 10.000. "
     ]
    },
    {
     "name": "stderr",
     "output_type": "stream",
     "text": [
      "  6%|▌         | 3/50 [05:17<1:20:59, 103.39s/it]"
     ]
    },
    {
     "name": "stdout",
     "output_type": "stream",
     "text": [
      "Val loss 2.263. Val acc 10.000. Took 98.105 seconds\n",
      "Epoch took 98.10461497306824\n",
      "Epoch [4]/[50]. Batch [25]/[25]. Train loss 0.563. Train acc 10.250. "
     ]
    },
    {
     "name": "stderr",
     "output_type": "stream",
     "text": [
      "  8%|▊         | 4/50 [06:53<1:17:03, 100.50s/it]"
     ]
    },
    {
     "name": "stdout",
     "output_type": "stream",
     "text": [
      "Val loss 2.268. Val acc 21.000. Took 96.073 seconds\n",
      "Epoch took 96.07255625724792\n",
      "Epoch [5]/[50]. Batch [25]/[25]. Train loss 0.449. Train acc 13.750. "
     ]
    },
    {
     "name": "stderr",
     "output_type": "stream",
     "text": [
      " 10%|█         | 5/50 [08:32<1:15:01, 100.04s/it]"
     ]
    },
    {
     "name": "stdout",
     "output_type": "stream",
     "text": [
      "Val loss 2.254. Val acc 19.000. Took 99.221 seconds\n",
      "Epoch took 99.22141981124878\n",
      "Epoch [6]/[50]. Batch [25]/[25]. Train loss 0.373. Train acc 15.125. "
     ]
    },
    {
     "name": "stderr",
     "output_type": "stream",
     "text": [
      " 12%|█▏        | 6/50 [10:10<1:12:43, 99.17s/it] "
     ]
    },
    {
     "name": "stdout",
     "output_type": "stream",
     "text": [
      "Val loss 2.247. Val acc 13.000. Took 97.477 seconds\n",
      "Epoch took 97.47673511505127\n",
      "Epoch [7]/[50]. Batch [25]/[25]. Train loss 0.319. Train acc 16.000. "
     ]
    },
    {
     "name": "stderr",
     "output_type": "stream",
     "text": [
      " 14%|█▍        | 7/50 [11:55<1:12:20, 100.94s/it]"
     ]
    },
    {
     "name": "stdout",
     "output_type": "stream",
     "text": [
      "Val loss 2.240. Val acc 14.000. Took 104.580 seconds\n",
      "Epoch took 104.58043074607849\n",
      "Epoch [8]/[50]. Batch [25]/[25]. Train loss 0.278. Train acc 17.000. "
     ]
    },
    {
     "name": "stderr",
     "output_type": "stream",
     "text": [
      " 16%|█▌        | 8/50 [13:35<1:10:34, 100.81s/it]"
     ]
    },
    {
     "name": "stdout",
     "output_type": "stream",
     "text": [
      "Val loss 2.238. Val acc 12.000. Took 100.544 seconds\n",
      "Epoch took 100.54449486732483\n",
      "Epoch [9]/[50]. Batch [25]/[25]. Train loss 0.246. Train acc 17.750. "
     ]
    },
    {
     "name": "stderr",
     "output_type": "stream",
     "text": [
      " 18%|█▊        | 9/50 [15:10<1:07:32, 98.84s/it] "
     ]
    },
    {
     "name": "stdout",
     "output_type": "stream",
     "text": [
      "Val loss 2.243. Val acc 14.000. Took 94.504 seconds\n",
      "Epoch took 94.50399732589722\n",
      "Epoch [10]/[50]. Batch [25]/[25]. Train loss 0.222. Train acc 19.250. "
     ]
    },
    {
     "name": "stderr",
     "output_type": "stream",
     "text": [
      " 20%|██        | 10/50 [16:48<1:05:50, 98.76s/it]"
     ]
    },
    {
     "name": "stdout",
     "output_type": "stream",
     "text": [
      "Val loss 2.230. Val acc 19.000. Took 98.588 seconds\n",
      "Epoch took 98.58831930160522\n",
      "Epoch [11]/[50]. Batch [25]/[25]. Train loss 0.200. Train acc 19.875. Val loss 2.224. Val acc 20.000. Took 102.827 seconds\n",
      "Epoch took 102.82715129852295\n"
     ]
    },
    {
     "name": "stderr",
     "output_type": "stream",
     "text": [
      " 22%|██▏       | 11/50 [18:51<1:09:01, 106.19s/it]"
     ]
    },
    {
     "name": "stdout",
     "output_type": "stream",
     "text": [
      "Epoch [12]/[50]. Batch [25]/[25]. Train loss 0.182. Train acc 22.375. "
     ]
    },
    {
     "name": "stderr",
     "output_type": "stream",
     "text": [
      " 24%|██▍       | 12/50 [20:28<1:05:22, 103.22s/it]"
     ]
    },
    {
     "name": "stdout",
     "output_type": "stream",
     "text": [
      "Val loss 2.240. Val acc 12.000. Took 96.388 seconds\n",
      "Epoch took 96.38751268386841\n",
      "Epoch [13]/[50]. Batch [25]/[25]. Train loss 0.168. Train acc 20.625. "
     ]
    },
    {
     "name": "stderr",
     "output_type": "stream",
     "text": [
      " 26%|██▌       | 13/50 [22:01<1:01:48, 100.24s/it]"
     ]
    },
    {
     "name": "stdout",
     "output_type": "stream",
     "text": [
      "Val loss 2.218. Val acc 12.000. Took 93.397 seconds\n",
      "Epoch took 93.3969841003418\n",
      "Epoch [14]/[50]. Batch [25]/[25]. Train loss 0.154. Train acc 21.375. "
     ]
    },
    {
     "name": "stderr",
     "output_type": "stream",
     "text": [
      " 28%|██▊       | 14/50 [23:36<59:10, 98.62s/it]   "
     ]
    },
    {
     "name": "stdout",
     "output_type": "stream",
     "text": [
      "Val loss 2.217. Val acc 17.000. Took 94.888 seconds\n",
      "Epoch took 94.88848900794983\n",
      "Epoch [15]/[50]. Batch [25]/[25]. Train loss 0.142. Train acc 25.750. "
     ]
    },
    {
     "name": "stderr",
     "output_type": "stream",
     "text": [
      " 30%|███       | 15/50 [25:14<57:27, 98.50s/it]"
     ]
    },
    {
     "name": "stdout",
     "output_type": "stream",
     "text": [
      "Val loss 2.219. Val acc 17.000. Took 98.212 seconds\n",
      "Epoch took 98.21189761161804\n",
      "Epoch [16]/[50]. Batch [25]/[25]. Train loss 0.132. Train acc 24.375. "
     ]
    },
    {
     "name": "stderr",
     "output_type": "stream",
     "text": [
      " 32%|███▏      | 16/50 [26:58<56:45, 100.17s/it]"
     ]
    },
    {
     "name": "stdout",
     "output_type": "stream",
     "text": [
      "Val loss 2.230. Val acc 15.000. Took 104.042 seconds\n",
      "Epoch took 104.0418643951416\n",
      "Epoch [17]/[50]. Batch [25]/[25]. Train loss 0.123. Train acc 27.625. "
     ]
    },
    {
     "name": "stderr",
     "output_type": "stream",
     "text": [
      " 34%|███▍      | 17/50 [28:38<55:02, 100.07s/it]"
     ]
    },
    {
     "name": "stdout",
     "output_type": "stream",
     "text": [
      "Val loss 2.224. Val acc 22.000. Took 99.834 seconds\n",
      "Epoch took 99.83436107635498\n",
      "Epoch [18]/[50]. Batch [25]/[25]. Train loss 0.114. Train acc 26.375. "
     ]
    },
    {
     "name": "stderr",
     "output_type": "stream",
     "text": [
      " 36%|███▌      | 18/50 [30:20<53:37, 100.56s/it]"
     ]
    },
    {
     "name": "stdout",
     "output_type": "stream",
     "text": [
      "Val loss 2.255. Val acc 11.000. Took 101.700 seconds\n",
      "Epoch took 101.70045232772827\n",
      "Epoch [19]/[50]. Batch [25]/[25]. Train loss 0.108. Train acc 27.000. "
     ]
    },
    {
     "name": "stderr",
     "output_type": "stream",
     "text": [
      " 38%|███▊      | 19/50 [32:05<52:43, 102.05s/it]"
     ]
    },
    {
     "name": "stdout",
     "output_type": "stream",
     "text": [
      "Val loss 2.269. Val acc 11.000. Took 105.517 seconds\n",
      "Epoch took 105.51745271682739\n",
      "Epoch [20]/[50]. Batch [25]/[25]. Train loss 0.102. Train acc 28.125. "
     ]
    },
    {
     "name": "stderr",
     "output_type": "stream",
     "text": [
      " 40%|████      | 20/50 [33:51<51:34, 103.15s/it]"
     ]
    },
    {
     "name": "stdout",
     "output_type": "stream",
     "text": [
      "Val loss 2.232. Val acc 15.000. Took 105.721 seconds\n",
      "Epoch took 105.7208149433136\n",
      "Epoch [21]/[50]. Batch [25]/[25]. Train loss 0.095. Train acc 29.875. Val loss 2.287. Val acc 13.000. Took 99.597 seconds\n",
      "Epoch took 99.59727501869202\n"
     ]
    },
    {
     "name": "stderr",
     "output_type": "stream",
     "text": [
      " 42%|████▏     | 21/50 [35:50<52:07, 107.83s/it]"
     ]
    },
    {
     "name": "stdout",
     "output_type": "stream",
     "text": [
      "Epoch [22]/[50]. Batch [25]/[25]. Train loss 0.089. Train acc 31.875. "
     ]
    },
    {
     "name": "stderr",
     "output_type": "stream",
     "text": [
      " 44%|████▍     | 22/50 [37:25<48:33, 104.06s/it]"
     ]
    },
    {
     "name": "stdout",
     "output_type": "stream",
     "text": [
      "Val loss 2.261. Val acc 18.000. Took 95.282 seconds\n",
      "Epoch took 95.28164172172546\n",
      "Epoch [23]/[50]. Batch [25]/[25]. Train loss 0.085. Train acc 32.500. "
     ]
    },
    {
     "name": "stderr",
     "output_type": "stream",
     "text": [
      " 46%|████▌     | 23/50 [39:02<45:50, 101.87s/it]"
     ]
    },
    {
     "name": "stdout",
     "output_type": "stream",
     "text": [
      "Val loss 2.274. Val acc 12.000. Took 96.765 seconds\n",
      "Epoch took 96.7646234035492\n",
      "Epoch [24]/[50]. Batch [25]/[25]. Train loss 0.079. Train acc 34.625. "
     ]
    },
    {
     "name": "stderr",
     "output_type": "stream",
     "text": [
      " 48%|████▊     | 24/50 [41:40<51:27, 118.75s/it]"
     ]
    },
    {
     "name": "stdout",
     "output_type": "stream",
     "text": [
      "Val loss 2.319. Val acc 14.000. Took 158.108 seconds\n",
      "Epoch took 158.107825756073\n",
      "Epoch [25]/[50]. Batch [25]/[25]. Train loss 0.075. Train acc 34.750. "
     ]
    },
    {
     "name": "stderr",
     "output_type": "stream",
     "text": [
      " 50%|█████     | 25/50 [44:33<56:19, 135.19s/it]"
     ]
    },
    {
     "name": "stdout",
     "output_type": "stream",
     "text": [
      "Val loss 2.339. Val acc 13.000. Took 173.544 seconds\n",
      "Epoch took 173.54388642311096\n",
      "Epoch [26]/[50]. Batch [25]/[25]. Train loss 0.071. Train acc 35.625. "
     ]
    },
    {
     "name": "stderr",
     "output_type": "stream",
     "text": [
      " 52%|█████▏    | 26/50 [46:28<51:36, 129.04s/it]"
     ]
    },
    {
     "name": "stdout",
     "output_type": "stream",
     "text": [
      "Val loss 2.350. Val acc 12.000. Took 114.676 seconds\n",
      "Epoch took 114.67596650123596\n",
      "Epoch [27]/[50]. Batch [25]/[25]. Train loss 0.067. Train acc 37.125. "
     ]
    },
    {
     "name": "stderr",
     "output_type": "stream",
     "text": [
      " 54%|█████▍    | 27/50 [47:59<45:03, 117.53s/it]"
     ]
    },
    {
     "name": "stdout",
     "output_type": "stream",
     "text": [
      "Val loss 2.319. Val acc 15.000. Took 90.691 seconds\n",
      "Epoch took 90.6914701461792\n",
      "Epoch [28]/[50]. Batch [25]/[25]. Train loss 0.064. Train acc 38.875. "
     ]
    },
    {
     "name": "stderr",
     "output_type": "stream",
     "text": [
      " 56%|█████▌    | 28/50 [49:28<40:00, 109.11s/it]"
     ]
    },
    {
     "name": "stdout",
     "output_type": "stream",
     "text": [
      "Val loss 2.357. Val acc 13.000. Took 89.451 seconds\n",
      "Epoch took 89.45121479034424\n",
      "Epoch [29]/[50]. Batch [25]/[25]. Train loss 0.060. Train acc 40.375. "
     ]
    },
    {
     "name": "stderr",
     "output_type": "stream",
     "text": [
      " 58%|█████▊    | 29/50 [51:03<36:41, 104.82s/it]"
     ]
    },
    {
     "name": "stdout",
     "output_type": "stream",
     "text": [
      "Val loss 2.384. Val acc 14.000. Took 94.830 seconds\n",
      "Epoch took 94.82993364334106\n",
      "Epoch [30]/[50]. Batch [25]/[25]. Train loss 0.057. Train acc 43.125. "
     ]
    },
    {
     "name": "stderr",
     "output_type": "stream",
     "text": [
      " 60%|██████    | 30/50 [52:34<33:31, 100.55s/it]"
     ]
    },
    {
     "name": "stdout",
     "output_type": "stream",
     "text": [
      "Val loss 2.425. Val acc 14.000. Took 90.582 seconds\n",
      "Epoch took 90.58160591125488\n",
      "Epoch [31]/[50]. Batch [25]/[25]. Train loss 0.055. Train acc 42.250. Val loss 2.490. Val acc 15.000. Took 99.191 seconds\n",
      "Epoch took 99.1906566619873\n"
     ]
    },
    {
     "name": "stderr",
     "output_type": "stream",
     "text": [
      " 62%|██████▏   | 31/50 [54:32<33:29, 105.76s/it]"
     ]
    },
    {
     "name": "stdout",
     "output_type": "stream",
     "text": [
      "Epoch [32]/[50]. Batch [25]/[25]. Train loss 0.052. Train acc 44.500. "
     ]
    },
    {
     "name": "stderr",
     "output_type": "stream",
     "text": [
      " 64%|██████▍   | 32/50 [56:11<31:10, 103.92s/it]"
     ]
    },
    {
     "name": "stdout",
     "output_type": "stream",
     "text": [
      "Val loss 2.533. Val acc 11.000. Took 99.621 seconds\n",
      "Epoch took 99.62077331542969\n",
      "Epoch [33]/[50]. Batch [25]/[25]. Train loss 0.050. Train acc 44.750. "
     ]
    },
    {
     "name": "stderr",
     "output_type": "stream",
     "text": [
      " 66%|██████▌   | 33/50 [57:51<29:07, 102.77s/it]"
     ]
    },
    {
     "name": "stdout",
     "output_type": "stream",
     "text": [
      "Val loss 2.470. Val acc 16.000. Took 100.070 seconds\n",
      "Epoch took 100.0700831413269\n",
      "Epoch [34]/[50]. Batch [25]/[25]. Train loss 0.047. Train acc 44.625. "
     ]
    },
    {
     "name": "stderr",
     "output_type": "stream",
     "text": [
      " 68%|██████▊   | 34/50 [59:30<27:04, 101.53s/it]"
     ]
    },
    {
     "name": "stdout",
     "output_type": "stream",
     "text": [
      "Val loss 2.528. Val acc 15.000. Took 98.638 seconds\n",
      "Epoch took 98.63782715797424\n",
      "Epoch [35]/[50]. Batch [25]/[25]. Train loss 0.045. Train acc 45.500. "
     ]
    },
    {
     "name": "stderr",
     "output_type": "stream",
     "text": [
      " 70%|███████   | 35/50 [1:01:08<25:06, 100.44s/it]"
     ]
    },
    {
     "name": "stdout",
     "output_type": "stream",
     "text": [
      "Val loss 2.534. Val acc 17.000. Took 97.898 seconds\n",
      "Epoch took 97.89795136451721\n",
      "Epoch [36]/[50]. Batch [25]/[25]. Train loss 0.044. Train acc 46.750. "
     ]
    },
    {
     "name": "stderr",
     "output_type": "stream",
     "text": [
      " 72%|███████▏  | 36/50 [1:02:50<23:32, 100.87s/it]"
     ]
    },
    {
     "name": "stdout",
     "output_type": "stream",
     "text": [
      "Val loss 2.451. Val acc 17.000. Took 101.868 seconds\n",
      "Epoch took 101.8675811290741\n",
      "Epoch [37]/[50]. Batch [25]/[25]. Train loss 0.041. Train acc 47.375. "
     ]
    },
    {
     "name": "stderr",
     "output_type": "stream",
     "text": [
      " 74%|███████▍  | 37/50 [1:04:29<21:44, 100.37s/it]"
     ]
    },
    {
     "name": "stdout",
     "output_type": "stream",
     "text": [
      "Val loss 2.601. Val acc 11.000. Took 99.198 seconds\n",
      "Epoch took 99.19760346412659\n",
      "Epoch [38]/[50]. Batch [25]/[25]. Train loss 0.039. Train acc 50.375. "
     ]
    },
    {
     "name": "stderr",
     "output_type": "stream",
     "text": [
      " 76%|███████▌  | 38/50 [1:06:08<20:01, 100.13s/it]"
     ]
    },
    {
     "name": "stdout",
     "output_type": "stream",
     "text": [
      "Val loss 2.569. Val acc 15.000. Took 99.563 seconds\n",
      "Epoch took 99.5634355545044\n",
      "Epoch [39]/[50]. Batch [25]/[25]. Train loss 0.036. Train acc 52.250. "
     ]
    },
    {
     "name": "stderr",
     "output_type": "stream",
     "text": [
      " 78%|███████▊  | 39/50 [1:07:47<18:16, 99.66s/it] "
     ]
    },
    {
     "name": "stdout",
     "output_type": "stream",
     "text": [
      "Val loss 2.658. Val acc 15.000. Took 98.558 seconds\n",
      "Epoch took 98.5575635433197\n",
      "Epoch [40]/[50]. Batch [25]/[25]. Train loss 0.035. Train acc 52.500. "
     ]
    },
    {
     "name": "stderr",
     "output_type": "stream",
     "text": [
      " 80%|████████  | 40/50 [1:09:25<16:32, 99.21s/it]"
     ]
    },
    {
     "name": "stdout",
     "output_type": "stream",
     "text": [
      "Val loss 2.707. Val acc 15.000. Took 98.181 seconds\n",
      "Epoch took 98.18124532699585\n",
      "Epoch [41]/[50]. Batch [25]/[25]. Train loss 0.033. Train acc 55.875. Val loss 2.732. Val acc 15.000. Took 99.937 seconds\n",
      "Epoch took 99.93661093711853\n"
     ]
    },
    {
     "name": "stderr",
     "output_type": "stream",
     "text": [
      " 82%|████████▏ | 41/50 [1:11:22<15:41, 104.61s/it]"
     ]
    },
    {
     "name": "stdout",
     "output_type": "stream",
     "text": [
      "Epoch [42]/[50]. Batch [25]/[25]. Train loss 0.032. Train acc 56.000. "
     ]
    },
    {
     "name": "stderr",
     "output_type": "stream",
     "text": [
      " 84%|████████▍ | 42/50 [1:13:01<13:43, 102.91s/it]"
     ]
    },
    {
     "name": "stdout",
     "output_type": "stream",
     "text": [
      "Val loss 2.777. Val acc 13.000. Took 98.922 seconds\n",
      "Epoch took 98.92234539985657\n",
      "Epoch [43]/[50]. Batch [25]/[25]. Train loss 0.030. Train acc 56.750. "
     ]
    },
    {
     "name": "stderr",
     "output_type": "stream",
     "text": [
      " 86%|████████▌ | 43/50 [1:14:39<11:48, 101.24s/it]"
     ]
    },
    {
     "name": "stdout",
     "output_type": "stream",
     "text": [
      "Val loss 2.785. Val acc 12.000. Took 97.347 seconds\n",
      "Epoch took 97.34693503379822\n",
      "Epoch [44]/[50]. Batch [25]/[25]. Train loss 0.028. Train acc 59.125. "
     ]
    },
    {
     "name": "stderr",
     "output_type": "stream",
     "text": [
      " 88%|████████▊ | 44/50 [1:16:16<10:00, 100.14s/it]"
     ]
    },
    {
     "name": "stdout",
     "output_type": "stream",
     "text": [
      "Val loss 2.824. Val acc 14.000. Took 97.571 seconds\n",
      "Epoch took 97.57124781608582\n",
      "Epoch [45]/[50]. Batch [25]/[25]. Train loss 0.027. Train acc 60.375. "
     ]
    },
    {
     "name": "stderr",
     "output_type": "stream",
     "text": [
      " 90%|█████████ | 45/50 [1:17:50<08:10, 98.13s/it] "
     ]
    },
    {
     "name": "stdout",
     "output_type": "stream",
     "text": [
      "Val loss 2.939. Val acc 11.000. Took 93.426 seconds\n",
      "Epoch took 93.42573952674866\n",
      "Epoch [46]/[50]. Batch [25]/[25]. Train loss 0.025. Train acc 60.125. "
     ]
    },
    {
     "name": "stderr",
     "output_type": "stream",
     "text": [
      " 92%|█████████▏| 46/50 [1:19:23<06:27, 96.76s/it]"
     ]
    },
    {
     "name": "stdout",
     "output_type": "stream",
     "text": [
      "Val loss 2.962. Val acc 11.000. Took 93.588 seconds\n",
      "Epoch took 93.58764743804932\n",
      "Epoch [47]/[50]. Batch [25]/[25]. Train loss 0.024. Train acc 61.750. "
     ]
    },
    {
     "name": "stderr",
     "output_type": "stream",
     "text": [
      " 94%|█████████▍| 47/50 [1:20:57<04:47, 95.80s/it]"
     ]
    },
    {
     "name": "stdout",
     "output_type": "stream",
     "text": [
      "Val loss 3.061. Val acc 12.000. Took 93.546 seconds\n",
      "Epoch took 93.54607510566711\n",
      "Epoch [48]/[50]. Batch [25]/[25]. Train loss 0.023. Train acc 63.625. "
     ]
    },
    {
     "name": "stderr",
     "output_type": "stream",
     "text": [
      " 96%|█████████▌| 48/50 [1:22:30<03:10, 95.16s/it]"
     ]
    },
    {
     "name": "stdout",
     "output_type": "stream",
     "text": [
      "Val loss 2.995. Val acc 19.000. Took 93.654 seconds\n",
      "Epoch took 93.65426540374756\n",
      "Epoch [49]/[50]. Batch [25]/[25]. Train loss 0.022. Train acc 65.250. "
     ]
    },
    {
     "name": "stderr",
     "output_type": "stream",
     "text": [
      " 98%|█████████▊| 49/50 [1:24:08<01:35, 95.96s/it]"
     ]
    },
    {
     "name": "stdout",
     "output_type": "stream",
     "text": [
      "Val loss 3.157. Val acc 12.000. Took 97.845 seconds\n",
      "Epoch took 97.84527683258057\n",
      "Epoch [50]/[50]. Batch [25]/[25]. Train loss 0.020. Train acc 67.250. "
     ]
    },
    {
     "name": "stderr",
     "output_type": "stream",
     "text": [
      "100%|██████████| 50/50 [1:25:42<00:00, 102.85s/it]"
     ]
    },
    {
     "name": "stdout",
     "output_type": "stream",
     "text": [
      "Val loss 3.295. Val acc 10.000. Took 93.913 seconds\n",
      "Epoch took 93.91275143623352\n"
     ]
    },
    {
     "name": "stderr",
     "output_type": "stream",
     "text": [
      "\n"
     ]
    },
    {
     "data": {
      "image/png": "[encoded data removed]",
      "text/plain": [
       "<Figure size 640x480 with 1 Axes>"
      ]
     },
     "metadata": {},
     "output_type": "display_data"
    },
    {
     "data": {
      "image/png": "[encoded data removed]",
      "text/plain": [
       "<Figure size 640x480 with 1 Axes>"
      ]
     },
     "metadata": {},
     "output_type": "display_data"
    }
   ],
   "source": [
    "from time import time\n",
    "print_every = 25\n",
    "num_epoch = 50\n",
    "\n",
    "model, train_losses, val_losses, train_accuracies, val_accuracies = train(\n",
    "    model=model,\n",
    "    criterion=criterion,\n",
    "    optimizer=optimizer,\n",
    "    train_dataloader=train_dataloader,\n",
    "    val_dataloader=val_dataloader,\n",
    "    print_every=print_every,\n",
    "    save_at_epoch=10,\n",
    "    num_epoch=num_epoch\n",
    ")"
   ]
  },
  {
   "cell_type": "code",
   "execution_count": 11,
   "metadata": {},
   "outputs": [
    {
     "data": {
      "image/png": "[encoded data removed]",
      "text/plain": [
       "<Figure size 640x480 with 1 Axes>"
      ]
     },
     "metadata": {},
     "output_type": "display_data"
    },
    {
     "data": {
      "image/png": "[encoded data removed]",
      "text/plain": [
       "<Figure size 640x480 with 1 Axes>"
      ]
     },
     "metadata": {},
     "output_type": "display_data"
    }
   ],
   "source": [
    "plt.plot(train_losses, label='Training loss')\n",
    "plt.plot(val_losses, label='Validation loss')\n",
    "plt.legend(frameon=False)\n",
    "plt.savefig('../Output/SimpleCNN/simplecnn_loss.png')\n",
    "plt.show()\n",
    "\n",
    "plt.plot(train_accuracies, label='Training accuracy')\n",
    "plt.plot(val_accuracies, label='Validation accuracy')\n",
    "plt.legend(frameon=False)\n",
    "plt.savefig('../Output/SimpleCNN/simplecnn_accuracy.png')\n",
    "plt.show()"
   ]
  },
  {
   "cell_type": "code",
   "execution_count": 10,
   "metadata": {},
   "outputs": [],
   "source": [
    "# Load the model\n",
    "CHECKPOINT_PATH = '../Models/SimpleCNN/checkpoint_40.pth'\n",
    "checkpoint = torch.load(CHECKPOINT_PATH)\n",
    "model.load_state_dict(checkpoint['model_state_dict'])\n",
    "optimizer.load_state_dict(checkpoint['optimizer_state_dict'])\n",
    "start_epoch = checkpoint['epoch']\n",
    "train_losses = checkpoint['train_losses']\n",
    "val_losses = checkpoint['val_losses']\n",
    "train_accuracies = checkpoint.get('train_accuracies', [])\n",
    "val_accuracies = checkpoint.get('val_accuracies', [])"
   ]
  },
  {
   "cell_type": "code",
   "execution_count": 14,
   "metadata": {},
   "outputs": [
    {
     "name": "stdout",
     "output_type": "stream",
     "text": [
      "Overall Test Accuracy: 24.24 %\n",
      "Accuracy of blues : 20.00 %\n",
      "Accuracy of classical : 10.00 %\n",
      "Accuracy of country : 10.00 %\n",
      "Accuracy of disco : 20.00 %\n",
      "Accuracy of hiphop : 10.00 %\n",
      "Accuracy of jazz : 11.11 %\n",
      "Accuracy of metal : 50.00 %\n",
      "Accuracy of pop : 50.00 %\n",
      "Accuracy of reggae : 30.00 %\n",
      "Accuracy of rock : 30.00 %\n"
     ]
    }
   ],
   "source": [
    "import torch\n",
    "from sklearn.metrics import confusion_matrix, accuracy_score\n",
    "import seaborn as sns\n",
    "import matplotlib.pyplot as plt\n",
    "\n",
    "# Assuming 'device' is already defined (e.g., 'cuda' or 'cpu')\n",
    "# Assuming 'resnet' is your trained model\n",
    "# Assuming 'classes' maps indices to genre names\n",
    "\n",
    "y_test = []\n",
    "y_pred = []\n",
    "\n",
    "# Iterate through the test dataloader\n",
    "for img, label in test_dataloader:\n",
    "    img = img.to(device)\n",
    "    model.eval()\n",
    "    with torch.no_grad():\n",
    "        prediction = model(img)\n",
    "    \n",
    "    final_preds = torch.max(prediction, dim=1)[1]\n",
    "    y_test.extend(label.tolist())\n",
    "    y_pred.extend(final_preds.cpu().tolist())\n",
    "\n",
    "# Map predicted indices back to class names\n",
    "y_pred_labels = [classes[pred] for pred in y_pred]\n",
    "\n",
    "# Calculate class-wise accuracy\n",
    "class_correct = list(0. for i in range(len(classes)))\n",
    "class_total = list(0. for i in range(len(classes)))\n",
    "classwise_accuracy = {}\n",
    "\n",
    "conf_matrix = confusion_matrix(y_test, y_pred)\n",
    "for i in range(len(y_test)):\n",
    "    label = y_test[i]\n",
    "    pred = y_pred[i]\n",
    "    if label == pred:\n",
    "        class_correct[label] += 1\n",
    "    class_total[label] += 1\n",
    "\n",
    "for i in range(len(classes)):\n",
    "    classwise_accuracy[classes[i]] = 100 * class_correct[i] / class_total[i] if class_total[i] > 0 else 0\n",
    "print(f'Overall Test Accuracy: {accuracy_score(y_test, y_pred) * 100:.2f} %')\n",
    "# Print Class-wise accuracy\n",
    "for class_name, accuracy in classwise_accuracy.items():\n",
    "    print(f'Accuracy of {class_name} : {accuracy:.2f} %')"
   ]
  }
 ],
 "metadata": {
  "kernelspec": {
   "display_name": "MGC",
   "language": "python",
   "name": "python3"
  },
  "language_info": {
   "codemirror_mode": {
    "name": "ipython",
    "version": 3
   },
   "file_extension": ".py",
   "mimetype": "text/x-python",
   "name": "python",
   "nbconvert_exporter": "python",
   "pygments_lexer": "ipython3",
   "version": "3.8.18"
  },
  "orig_nbformat": 4
 },
 "nbformat": 4,
 "nbformat_minor": 2
}
