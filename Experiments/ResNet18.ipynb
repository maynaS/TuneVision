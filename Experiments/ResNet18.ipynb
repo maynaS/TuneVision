{
 "cells": [
  {
   "cell_type": "code",
   "execution_count": 1,
   "metadata": {},
   "outputs": [],
   "source": [
    "import pandas as pd\n",
    "import numpy as np\n",
    "import matplotlib.pyplot as plt\n",
    "import seaborn as sns\n",
    "\n",
    "import glob\n",
    "import os\n",
    "\n",
    "import shutil\n",
    "from random import shuffle\n",
    "\n",
    "import librosa\n",
    "import librosa.display\n",
    "\n",
    "\n",
    "import torch\n",
    "from torch import nn\n",
    "from torchvision import models, transforms, datasets\n",
    "\n",
    "from time import time\n",
    "from tqdm import tqdm"
   ]
  },
  {
   "cell_type": "code",
   "execution_count": 13,
   "metadata": {},
   "outputs": [],
   "source": [
    "seed = 42\n",
    "np.random.seed(seed)\n",
    "\n",
    "path = \"../Data\"\n",
    "path_audio_files = path + \"/genres_original/\"\n",
    "path_imgs = \"../Data/images_original/\"\n",
    "batch_size = 32\n",
    "hop_length = 512\n",
    "n_fft = 2048\n",
    "device = 'cuda' if torch.cuda.is_available() else 'cpu'\n",
    "\n",
    "genre_dict = {\"blues\":0,\"classical\":1,\"country\":2,\"disco\":3,\"hiphop\":4,\"jazz\":5,\"metal\":6,\"pop\":7,\"reggae\":8,\"rock\":9}"
   ]
  },
  {
   "cell_type": "code",
   "execution_count": null,
   "metadata": {},
   "outputs": [],
   "source": [
    "print(\"Transforming the Audio Files into Mel Spectrograms:\")\n",
    "\n",
    "mel_spectogram_data = {}\n",
    "for genre in genre_dict.keys():\n",
    "    print(\"\\t\",genre)\n",
    "    \n",
    "    mel_spectogram_data[genre] = []\n",
    "\n",
    "    for name in glob.glob(path_audio_files + genre + \"/*\"):\n",
    "        if(name != \"../Data/genres_original/jazz/jazz.00054.wav\"):\n",
    "        \n",
    "            data,sampling_rate = librosa.load(name)\n",
    "\n",
    "            mel_spec = librosa.feature.melspectrogram(y = data.ravel(), sr=sampling_rate,hop_length = hop_length)\n",
    "            mel_spec_db = librosa.amplitude_to_db(mel_spec, ref=np.max)\n",
    "\n",
    "            mel_spectogram_data[genre].append(mel_spec_db)\n",
    "            \n",
    "\n",
    "print(\"Saving the Mel Spectrogram Images:\")\n",
    "            \n",
    "os.mkdir(path_imgs)\n",
    "for genre in genre_dict.keys():\n",
    "    print(\"\\t\",genre)\n",
    "    try:\n",
    "        os.mkdir(path_imgs + genre)\n",
    "    except:\n",
    "        pass\n",
    "    for i in range(len(mel_spectogram_data[genre])):\n",
    "        fig, ax = plt.subplots(1, figsize=(12,8))\n",
    "        img = librosa.display.specshow(mel_spectogram_data[genre][i], sr = sampling_rate, hop_length = hop_length,cmap = 'cool',ax=ax)\n",
    "        fig.savefig(path_imgs + genre + \"/\" + genre + \"_\" + str(i) + \".png\")\n",
    "        plt.close()"
   ]
  },
  {
   "cell_type": "code",
   "execution_count": 14,
   "metadata": {},
   "outputs": [
    {
     "data": {
      "text/plain": [
       "1727"
      ]
     },
     "execution_count": 14,
     "metadata": {},
     "output_type": "execute_result"
    }
   ],
   "source": [
    "import gc\n",
    "gc.collect()"
   ]
  },
  {
   "cell_type": "code",
   "execution_count": 17,
   "metadata": {},
   "outputs": [
    {
     "name": "stdout",
     "output_type": "stream",
     "text": [
      "Classes: ['blues', 'classical', 'country', 'disco', 'hiphop', 'jazz', 'metal', 'pop', 'reggae', 'rock']\n",
      "Number of Train Samples: 800\n",
      "Number of Validation Samples: 100\n",
      "Number of Test Samples: 99\n"
     ]
    }
   ],
   "source": [
    "import torch\n",
    "from torchvision import datasets, transforms\n",
    "\n",
    "# Define Transforms\n",
    "train_transforms = transforms.Compose([\n",
    "    #transforms.Resize(224),\n",
    "    transforms.ToTensor(),\n",
    "    transforms.Normalize(mean=[0.4931, 0.9151, 0.9960], std=[0.4495, 0.1716, 0.0602])\n",
    "])\n",
    "\n",
    "test_transforms = transforms.Compose([\n",
    "    #transforms.Resize(224),\n",
    "    transforms.ToTensor(),\n",
    "    transforms.Normalize(mean=[0.4931, 0.9151, 0.9960], std=[0.4495, 0.1716, 0.0602])\n",
    "])\n",
    "\n",
    "# Paths to the train, validation, and test folders\n",
    "train_path = '../Data/train/images_original'  # Update this path\n",
    "val_path = '../Data/val/images_original'      # Update this path\n",
    "test_path = '../Data/test/images_original'    # Update this path\n",
    "\n",
    "# Load the data from folders\n",
    "train_dataset = datasets.ImageFolder(train_path, transform=train_transforms)\n",
    "val_dataset = datasets.ImageFolder(val_path, transform=test_transforms)\n",
    "test_dataset = datasets.ImageFolder(test_path, transform=test_transforms)\n",
    "\n",
    "# Batch Size (Define it if not already defined)\n",
    "batch_size = 32  # Update this as per your requirement\n",
    "\n",
    "# Make DataLoaders\n",
    "train_dataloader = torch.utils.data.DataLoader(\n",
    "    dataset=train_dataset, \n",
    "    batch_size=batch_size,\n",
    "    shuffle=True\n",
    ")\n",
    "\n",
    "val_dataloader = torch.utils.data.DataLoader(\n",
    "    dataset=val_dataset,\n",
    "    batch_size=batch_size,\n",
    "    shuffle=False\n",
    ")\n",
    "\n",
    "test_dataloader = torch.utils.data.DataLoader(\n",
    "    dataset=test_dataset,\n",
    "    batch_size=batch_size,\n",
    "    shuffle=False\n",
    ")\n",
    "\n",
    "# Classes\n",
    "classes = train_dataset.classes\n",
    "print(f\"Classes: {classes}\")\n",
    "\n",
    "# Print the number of samples in each set\n",
    "print(f\"Number of Train Samples: {len(train_dataset)}\")\n",
    "print(f\"Number of Validation Samples: {len(val_dataset)}\")\n",
    "print(f\"Number of Test Samples: {len(test_dataset)}\")\n"
   ]
  },
  {
   "cell_type": "code",
   "execution_count": 18,
   "metadata": {},
   "outputs": [
    {
     "name": "stdout",
     "output_type": "stream",
     "text": [
      "mean and std: \n",
      " tensor([ 0.0274, -2.7448, -7.9663]) tensor([1.0179, 2.7438, 7.1918])\n"
     ]
    }
   ],
   "source": [
    "def mean_std(loader):\n",
    "    images, lebels = next(iter(loader))\n",
    "    # shape of images = [b,c,w,h]\n",
    "    mean, std = images.mean([0,2,3]), images.std([0,2,3])\n",
    "    return mean, std\n",
    "\n",
    "mean, std = mean_std(train_dataloader)\n",
    "print(\"mean and std: \\n\", mean, std)"
   ]
  },
  {
   "cell_type": "markdown",
   "metadata": {},
   "source": [
    "### Resnet18 Transfer Learning"
   ]
  },
  {
   "cell_type": "code",
   "execution_count": 19,
   "metadata": {},
   "outputs": [
    {
     "name": "stderr",
     "output_type": "stream",
     "text": [
      "/home/sanyam/anaconda3/envs/MGC/lib/python3.8/site-packages/torchvision/models/_utils.py:208: UserWarning: The parameter 'pretrained' is deprecated since 0.13 and may be removed in the future, please use 'weights' instead.\n",
      "  warnings.warn(\n",
      "/home/sanyam/anaconda3/envs/MGC/lib/python3.8/site-packages/torchvision/models/_utils.py:223: UserWarning: Arguments other than a weight enum or `None` for 'weights' are deprecated since 0.13 and may be removed in the future. The current behavior is equivalent to passing `weights=ResNet18_Weights.IMAGENET1K_V1`. You can also use `weights=ResNet18_Weights.DEFAULT` to get the most up-to-date weights.\n",
      "  warnings.warn(msg)\n"
     ]
    }
   ],
   "source": [
    "# Load a Pretrained Model\n",
    "resnet = models.resnet18(pretrained=True)\n",
    "\n",
    "# Fix the trainable parameters\n",
    "for parameter in resnet.parameters():\n",
    "    parameter.requires_grad = False\n",
    "    \n",
    "    \n",
    "# Number of Input Features in the Last Fully Connected Layer\n",
    "in_features = resnet.fc.in_features\n",
    "\n",
    "# Replacing the Last Fully Connected Layer\n",
    "fc = nn.Linear(in_features=in_features, out_features=len(classes))\n",
    "resnet.fc = fc\n",
    "\n",
    "\n",
    "# Updating the Weights and Bias of the last layer\n",
    "params_to_update = []\n",
    "for name, param in resnet.named_parameters():\n",
    "    if param.requires_grad == True:\n",
    "        params_to_update.append(param)\n",
    "\n",
    "# Define the Loss and Optimizer Functions\n",
    "criterion = nn.CrossEntropyLoss()\n",
    "optimizer = torch.optim.Adam(params_to_update, lr=0.001)"
   ]
  },
  {
   "cell_type": "code",
   "execution_count": 21,
   "metadata": {},
   "outputs": [],
   "source": [
    "def train(model, criterion, optimizer, train_dataloader, val_dataloader, print_every, num_epoch, save_at_epoch, checkpoint_path=None):\n",
    "\n",
    "    steps = 0\n",
    "    train_losses, val_losses = [], []\n",
    "    train_accuracies, val_accuracies = [], []\n",
    "    start_epoch = 0\n",
    "\n",
    "    model.to(device)\n",
    "\n",
    "    # Load checkpoint if provided\n",
    "    if checkpoint_path:\n",
    "        checkpoint = torch.load(checkpoint_path)\n",
    "        model.load_state_dict(checkpoint['model_state_dict'])\n",
    "        optimizer.load_state_dict(checkpoint['optimizer_state_dict'])\n",
    "        start_epoch = checkpoint['epoch']\n",
    "        train_losses = checkpoint['train_losses']\n",
    "        val_losses = checkpoint['val_losses']\n",
    "        train_accuracies = checkpoint.get('train_accuracies', [])\n",
    "        val_accuracies = checkpoint.get('val_accuracies', [])\n",
    "\n",
    "    for epoch in tqdm(range(start_epoch, num_epoch)):\n",
    "        running_loss = 0\n",
    "        correct_train = 0\n",
    "        total_train = 0\n",
    "        start_time = time()\n",
    "        iter_time = time()\n",
    "\n",
    "        model.train()\n",
    "        for i, (images, labels) in enumerate(train_dataloader):\n",
    "            steps += 1\n",
    "            images = images.to(device)\n",
    "            labels = labels.to(device)\n",
    "\n",
    "            # Forward pass\n",
    "            output = model(images)\n",
    "            loss = criterion(output, labels)\n",
    "\n",
    "            correct_train += (torch.max(output, dim=1)[1] == labels).sum()\n",
    "            total_train += labels.size(0)\n",
    "\n",
    "            # Backward and optimize\n",
    "            optimizer.zero_grad()\n",
    "            loss.backward()\n",
    "            optimizer.step()\n",
    "\n",
    "            running_loss += loss.item()\n",
    "\n",
    "            # Logging\n",
    "            if steps % print_every == 0:\n",
    "                print(f'Epoch [{epoch + 1}]/[{num_epoch}]. Batch [{i + 1}]/[{len(train_dataloader)}].', end=' ')\n",
    "                print(f'Train loss {running_loss / steps:.3f}.', end=' ')\n",
    "                print(f'Train acc {correct_train / total_train * 100:.3f}.', end=' ')\n",
    "        \n",
    "        train_accuracy = correct_train / total_train * 100\n",
    "        train_accuracies.append(train_accuracy)\n",
    "\n",
    "        train_loss = running_loss / len(train_dataloader)\n",
    "        train_losses.append(train_loss)\n",
    "\n",
    "        model.eval()\n",
    "        correct_val, total_val = 0, 0\n",
    "        val_loss = 0\n",
    "\n",
    "        with torch.no_grad():\n",
    "            for images, labels in val_dataloader:\n",
    "                images = images.to(device)\n",
    "                labels = labels.to(device)\n",
    "                output = model(images)\n",
    "                loss = criterion(output, labels)\n",
    "                val_loss += loss.item()\n",
    "                \n",
    "                correct_val += (torch.max(output, dim=1)[1] == labels).sum()\n",
    "                total_val += labels.size(0)\n",
    "\n",
    "        # Validation Accuracy\n",
    "        val_accuracy = correct_val / total_val * 100\n",
    "        val_accuracies.append(val_accuracy)\n",
    "\n",
    "        # Validation Loss\n",
    "        val_loss = val_loss / len(val_dataloader)\n",
    "        val_losses.append(val_loss)\n",
    "\n",
    "        print(f'Val loss {val_loss:.3f}.', end=' ')\n",
    "        print(f'Val acc {val_accuracy:.3f}.', end=' ')\n",
    "        print(f'Took {time() - iter_time:.3f} seconds')\n",
    "        iter_time = time()\n",
    "        \n",
    "        print(f'Epoch took {time() - start_time}')\n",
    "        # Save checkpoint\n",
    "\n",
    "        if epoch % save_at_epoch == 0:\n",
    "            checkpoint = {\n",
    "                'epoch': epoch,\n",
    "                'model_state_dict': model.state_dict(),\n",
    "                'optimizer_state_dict': optimizer.state_dict(),\n",
    "                'train_losses': train_losses,\n",
    "                'val_losses': val_losses\n",
    "            }\n",
    "            torch.save(checkpoint, f'../Models/Resnet18/checkpoint_{epoch}.pth')\n",
    "\n",
    "    return model, train_losses, val_losses, train_accuracies, val_accuracies\n"
   ]
  },
  {
   "cell_type": "code",
   "execution_count": 24,
   "metadata": {},
   "outputs": [
    {
     "name": "stderr",
     "output_type": "stream",
     "text": [
      "  0%|          | 0/50 [00:00<?, ?it/s]"
     ]
    },
    {
     "name": "stdout",
     "output_type": "stream",
     "text": [
      "Epoch [1]/[50]. Batch [25]/[25]. Train loss 0.622. Train acc 83.250. "
     ]
    },
    {
     "name": "stderr",
     "output_type": "stream",
     "text": [
      "  2%|▏         | 1/50 [00:36<29:24, 36.02s/it]"
     ]
    },
    {
     "name": "stdout",
     "output_type": "stream",
     "text": [
      "Val loss 1.169. Val acc 69.000. Took 35.871 seconds\n",
      "Epoch took 35.871312618255615\n",
      "Epoch [2]/[50]. Batch [25]/[25]. Train loss 0.297. Train acc 85.625. "
     ]
    },
    {
     "name": "stderr",
     "output_type": "stream",
     "text": [
      "  4%|▍         | 2/50 [01:13<29:42, 37.14s/it]"
     ]
    },
    {
     "name": "stdout",
     "output_type": "stream",
     "text": [
      "Val loss 1.170. Val acc 70.000. Took 37.926 seconds\n",
      "Epoch took 37.92587924003601\n",
      "Epoch [3]/[50]. Batch [25]/[25]. Train loss 0.213. Train acc 82.625. "
     ]
    },
    {
     "name": "stderr",
     "output_type": "stream",
     "text": [
      "  6%|▌         | 3/50 [01:48<28:18, 36.14s/it]"
     ]
    },
    {
     "name": "stdout",
     "output_type": "stream",
     "text": [
      "Val loss 1.211. Val acc 69.000. Took 34.956 seconds\n",
      "Epoch took 34.95608329772949\n",
      "Epoch [4]/[50]. Batch [25]/[25]. Train loss 0.154. Train acc 83.375. "
     ]
    },
    {
     "name": "stderr",
     "output_type": "stream",
     "text": [
      "  8%|▊         | 4/50 [02:21<26:42, 34.83s/it]"
     ]
    },
    {
     "name": "stdout",
     "output_type": "stream",
     "text": [
      "Val loss 1.356. Val acc 67.000. Took 32.825 seconds\n",
      "Epoch took 32.82548785209656\n",
      "Epoch [5]/[50]. Batch [25]/[25]. Train loss 0.116. Train acc 85.125. "
     ]
    },
    {
     "name": "stderr",
     "output_type": "stream",
     "text": [
      " 10%|█         | 5/50 [02:54<25:34, 34.10s/it]"
     ]
    },
    {
     "name": "stdout",
     "output_type": "stream",
     "text": [
      "Val loss 1.201. Val acc 70.000. Took 32.809 seconds\n",
      "Epoch took 32.809202909469604\n",
      "Epoch [6]/[50]. Batch [25]/[25]. Train loss 0.100. Train acc 84.500. "
     ]
    },
    {
     "name": "stderr",
     "output_type": "stream",
     "text": [
      " 12%|█▏        | 6/50 [03:27<24:41, 33.66s/it]"
     ]
    },
    {
     "name": "stdout",
     "output_type": "stream",
     "text": [
      "Val loss 1.217. Val acc 68.000. Took 32.798 seconds\n",
      "Epoch took 32.79752779006958\n",
      "Epoch [7]/[50]. Batch [25]/[25]. Train loss 0.085. Train acc 85.250. "
     ]
    },
    {
     "name": "stderr",
     "output_type": "stream",
     "text": [
      " 14%|█▍        | 7/50 [04:00<23:55, 33.39s/it]"
     ]
    },
    {
     "name": "stdout",
     "output_type": "stream",
     "text": [
      "Val loss 1.198. Val acc 69.000. Took 32.839 seconds\n",
      "Epoch took 32.83854794502258\n",
      "Epoch [8]/[50]. Batch [25]/[25]. Train loss 0.071. Train acc 85.625. "
     ]
    },
    {
     "name": "stderr",
     "output_type": "stream",
     "text": [
      " 16%|█▌        | 8/50 [04:33<23:16, 33.24s/it]"
     ]
    },
    {
     "name": "stdout",
     "output_type": "stream",
     "text": [
      "Val loss 1.177. Val acc 70.000. Took 32.919 seconds\n",
      "Epoch took 32.918662548065186\n",
      "Epoch [9]/[50]. Batch [25]/[25]. Train loss 0.063. Train acc 86.125. "
     ]
    },
    {
     "name": "stderr",
     "output_type": "stream",
     "text": [
      " 18%|█▊        | 9/50 [05:05<22:37, 33.10s/it]"
     ]
    },
    {
     "name": "stdout",
     "output_type": "stream",
     "text": [
      "Val loss 1.263. Val acc 69.000. Took 32.795 seconds\n",
      "Epoch took 32.79536008834839\n",
      "Epoch [10]/[50]. Batch [25]/[25]. Train loss 0.057. Train acc 84.500. "
     ]
    },
    {
     "name": "stderr",
     "output_type": "stream",
     "text": [
      " 20%|██        | 10/50 [05:38<22:01, 33.03s/it]"
     ]
    },
    {
     "name": "stdout",
     "output_type": "stream",
     "text": [
      "Val loss 1.204. Val acc 66.000. Took 32.878 seconds\n",
      "Epoch took 32.87841987609863\n",
      "Epoch [11]/[50]. Batch [25]/[25]. Train loss 0.051. Train acc 85.000. "
     ]
    },
    {
     "name": "stderr",
     "output_type": "stream",
     "text": [
      " 22%|██▏       | 11/50 [06:11<21:29, 33.07s/it]"
     ]
    },
    {
     "name": "stdout",
     "output_type": "stream",
     "text": [
      "Val loss 1.219. Val acc 69.000. Took 33.003 seconds\n",
      "Epoch took 33.00304961204529\n",
      "Epoch [12]/[50]. Batch [25]/[25]. Train loss 0.048. Train acc 85.500. "
     ]
    },
    {
     "name": "stderr",
     "output_type": "stream",
     "text": [
      " 24%|██▍       | 12/50 [06:44<20:48, 32.86s/it]"
     ]
    },
    {
     "name": "stdout",
     "output_type": "stream",
     "text": [
      "Val loss 1.338. Val acc 69.000. Took 32.392 seconds\n",
      "Epoch took 32.39221262931824\n",
      "Epoch [13]/[50]. Batch [25]/[25]. Train loss 0.043. Train acc 86.000. "
     ]
    },
    {
     "name": "stderr",
     "output_type": "stream",
     "text": [
      " 26%|██▌       | 13/50 [07:16<20:07, 32.63s/it]"
     ]
    },
    {
     "name": "stdout",
     "output_type": "stream",
     "text": [
      "Val loss 1.288. Val acc 64.000. Took 32.092 seconds\n",
      "Epoch took 32.09151029586792\n",
      "Epoch [14]/[50]. Batch [25]/[25]. Train loss 0.041. Train acc 84.875. "
     ]
    },
    {
     "name": "stderr",
     "output_type": "stream",
     "text": [
      " 28%|██▊       | 14/50 [07:49<19:35, 32.66s/it]"
     ]
    },
    {
     "name": "stdout",
     "output_type": "stream",
     "text": [
      "Val loss 1.202. Val acc 66.000. Took 32.736 seconds\n",
      "Epoch took 32.735875606536865\n",
      "Epoch [15]/[50]. Batch [25]/[25]. Train loss 0.037. Train acc 85.750. "
     ]
    },
    {
     "name": "stderr",
     "output_type": "stream",
     "text": [
      " 30%|███       | 15/50 [08:22<19:07, 32.77s/it]"
     ]
    },
    {
     "name": "stdout",
     "output_type": "stream",
     "text": [
      "Val loss 1.218. Val acc 71.000. Took 33.031 seconds\n",
      "Epoch took 33.03097987174988\n",
      "Epoch [16]/[50]. Batch [25]/[25]. Train loss 0.034. Train acc 85.000. "
     ]
    },
    {
     "name": "stderr",
     "output_type": "stream",
     "text": [
      " 32%|███▏      | 16/50 [08:54<18:30, 32.66s/it]"
     ]
    },
    {
     "name": "stdout",
     "output_type": "stream",
     "text": [
      "Val loss 1.254. Val acc 69.000. Took 32.395 seconds\n",
      "Epoch took 32.394829511642456\n",
      "Epoch [17]/[50]. Batch [25]/[25]. Train loss 0.031. Train acc 86.625. "
     ]
    },
    {
     "name": "stderr",
     "output_type": "stream",
     "text": [
      " 34%|███▍      | 17/50 [09:26<17:54, 32.57s/it]"
     ]
    },
    {
     "name": "stdout",
     "output_type": "stream",
     "text": [
      "Val loss 1.191. Val acc 68.000. Took 32.365 seconds\n",
      "Epoch took 32.36486840248108\n",
      "Epoch [18]/[50]. Batch [25]/[25]. Train loss 0.030. Train acc 85.500. "
     ]
    },
    {
     "name": "stderr",
     "output_type": "stream",
     "text": [
      " 36%|███▌      | 18/50 [09:59<17:19, 32.47s/it]"
     ]
    },
    {
     "name": "stdout",
     "output_type": "stream",
     "text": [
      "Val loss 1.253. Val acc 69.000. Took 32.235 seconds\n",
      "Epoch took 32.234636545181274\n",
      "Epoch [19]/[50]. Batch [25]/[25]. Train loss 0.027. Train acc 86.875. "
     ]
    },
    {
     "name": "stderr",
     "output_type": "stream",
     "text": [
      " 38%|███▊      | 19/50 [10:31<16:44, 32.41s/it]"
     ]
    },
    {
     "name": "stdout",
     "output_type": "stream",
     "text": [
      "Val loss 1.195. Val acc 69.000. Took 32.253 seconds\n",
      "Epoch took 32.25330591201782\n",
      "Epoch [20]/[50]. Batch [25]/[25]. Train loss 0.026. Train acc 87.250. "
     ]
    },
    {
     "name": "stderr",
     "output_type": "stream",
     "text": [
      " 40%|████      | 20/50 [11:04<16:18, 32.61s/it]"
     ]
    },
    {
     "name": "stdout",
     "output_type": "stream",
     "text": [
      "Val loss 1.243. Val acc 70.000. Took 33.100 seconds\n",
      "Epoch took 33.099631547927856\n",
      "Epoch [21]/[50]. Batch [25]/[25]. Train loss 0.025. Train acc 86.750. "
     ]
    },
    {
     "name": "stderr",
     "output_type": "stream",
     "text": [
      " 42%|████▏     | 21/50 [11:37<15:51, 32.80s/it]"
     ]
    },
    {
     "name": "stdout",
     "output_type": "stream",
     "text": [
      "Val loss 1.264. Val acc 70.000. Took 33.131 seconds\n",
      "Epoch took 33.13069725036621\n",
      "Epoch [22]/[50]. Batch [25]/[25]. Train loss 0.023. Train acc 87.625. "
     ]
    },
    {
     "name": "stderr",
     "output_type": "stream",
     "text": [
      " 44%|████▍     | 22/50 [12:10<15:21, 32.91s/it]"
     ]
    },
    {
     "name": "stdout",
     "output_type": "stream",
     "text": [
      "Val loss 1.200. Val acc 68.000. Took 33.171 seconds\n",
      "Epoch took 33.1708869934082\n",
      "Epoch [23]/[50]. Batch [25]/[25]. Train loss 0.022. Train acc 87.375. "
     ]
    },
    {
     "name": "stderr",
     "output_type": "stream",
     "text": [
      " 46%|████▌     | 23/50 [12:44<14:52, 33.07s/it]"
     ]
    },
    {
     "name": "stdout",
     "output_type": "stream",
     "text": [
      "Val loss 1.228. Val acc 68.000. Took 33.428 seconds\n",
      "Epoch took 33.428277015686035\n",
      "Epoch [24]/[50]. Batch [25]/[25]. Train loss 0.021. Train acc 87.375. "
     ]
    },
    {
     "name": "stderr",
     "output_type": "stream",
     "text": [
      " 48%|████▊     | 24/50 [13:17<14:18, 33.00s/it]"
     ]
    },
    {
     "name": "stdout",
     "output_type": "stream",
     "text": [
      "Val loss 1.312. Val acc 69.000. Took 32.840 seconds\n",
      "Epoch took 32.84040808677673\n",
      "Epoch [25]/[50]. Batch [25]/[25]. Train loss 0.020. Train acc 88.000. "
     ]
    },
    {
     "name": "stderr",
     "output_type": "stream",
     "text": [
      " 50%|█████     | 25/50 [13:49<13:42, 32.89s/it]"
     ]
    },
    {
     "name": "stdout",
     "output_type": "stream",
     "text": [
      "Val loss 1.263. Val acc 68.000. Took 32.638 seconds\n",
      "Epoch took 32.63848876953125\n",
      "Epoch [26]/[50]. Batch [25]/[25]. Train loss 0.019. Train acc 87.250. "
     ]
    },
    {
     "name": "stderr",
     "output_type": "stream",
     "text": [
      " 52%|█████▏    | 26/50 [14:23<13:12, 33.02s/it]"
     ]
    },
    {
     "name": "stdout",
     "output_type": "stream",
     "text": [
      "Val loss 1.210. Val acc 69.000. Took 33.308 seconds\n",
      "Epoch took 33.30835771560669\n",
      "Epoch [27]/[50]. Batch [25]/[25]. Train loss 0.018. Train acc 89.500. "
     ]
    },
    {
     "name": "stderr",
     "output_type": "stream",
     "text": [
      " 54%|█████▍    | 27/50 [14:55<12:38, 32.97s/it]"
     ]
    },
    {
     "name": "stdout",
     "output_type": "stream",
     "text": [
      "Val loss 1.221. Val acc 68.000. Took 32.849 seconds\n",
      "Epoch took 32.848580837249756\n",
      "Epoch [28]/[50]. Batch [25]/[25]. Train loss 0.018. Train acc 87.375. "
     ]
    },
    {
     "name": "stderr",
     "output_type": "stream",
     "text": [
      " 56%|█████▌    | 28/50 [15:28<12:01, 32.82s/it]"
     ]
    },
    {
     "name": "stdout",
     "output_type": "stream",
     "text": [
      "Val loss 1.241. Val acc 69.000. Took 32.468 seconds\n",
      "Epoch took 32.468358516693115\n",
      "Epoch [29]/[50]. Batch [25]/[25]. Train loss 0.017. Train acc 87.375. "
     ]
    },
    {
     "name": "stderr",
     "output_type": "stream",
     "text": [
      " 58%|█████▊    | 29/50 [16:00<11:26, 32.71s/it]"
     ]
    },
    {
     "name": "stdout",
     "output_type": "stream",
     "text": [
      "Val loss 1.351. Val acc 69.000. Took 32.471 seconds\n",
      "Epoch took 32.471229791641235\n",
      "Epoch [30]/[50]. Batch [25]/[25]. Train loss 0.017. Train acc 86.500. "
     ]
    },
    {
     "name": "stderr",
     "output_type": "stream",
     "text": [
      " 60%|██████    | 30/50 [16:34<10:58, 32.91s/it]"
     ]
    },
    {
     "name": "stdout",
     "output_type": "stream",
     "text": [
      "Val loss 1.256. Val acc 70.000. Took 33.355 seconds\n",
      "Epoch took 33.35544180870056\n",
      "Epoch [31]/[50]. Batch [25]/[25]. Train loss 0.015. Train acc 89.500. "
     ]
    },
    {
     "name": "stderr",
     "output_type": "stream",
     "text": [
      " 62%|██████▏   | 31/50 [17:07<10:26, 32.96s/it]"
     ]
    },
    {
     "name": "stdout",
     "output_type": "stream",
     "text": [
      "Val loss 1.175. Val acc 70.000. Took 32.968 seconds\n",
      "Epoch took 32.968388080596924\n",
      "Epoch [32]/[50]. Batch [25]/[25]. Train loss 0.015. Train acc 87.875. "
     ]
    },
    {
     "name": "stderr",
     "output_type": "stream",
     "text": [
      " 64%|██████▍   | 32/50 [17:39<09:51, 32.84s/it]"
     ]
    },
    {
     "name": "stdout",
     "output_type": "stream",
     "text": [
      "Val loss 1.320. Val acc 70.000. Took 32.542 seconds\n",
      "Epoch took 32.541874408721924\n",
      "Epoch [33]/[50]. Batch [25]/[25]. Train loss 0.015. Train acc 87.500. "
     ]
    },
    {
     "name": "stderr",
     "output_type": "stream",
     "text": [
      " 66%|██████▌   | 33/50 [18:12<09:16, 32.73s/it]"
     ]
    },
    {
     "name": "stdout",
     "output_type": "stream",
     "text": [
      "Val loss 1.338. Val acc 69.000. Took 32.474 seconds\n",
      "Epoch took 32.474241733551025\n",
      "Epoch [34]/[50]. Batch [25]/[25]. Train loss 0.014. Train acc 89.000. "
     ]
    },
    {
     "name": "stderr",
     "output_type": "stream",
     "text": [
      " 68%|██████▊   | 34/50 [18:44<08:42, 32.65s/it]"
     ]
    },
    {
     "name": "stdout",
     "output_type": "stream",
     "text": [
      "Val loss 1.263. Val acc 69.000. Took 32.450 seconds\n",
      "Epoch took 32.450153827667236\n",
      "Epoch [35]/[50]. Batch [25]/[25]. Train loss 0.013. Train acc 89.000. "
     ]
    },
    {
     "name": "stderr",
     "output_type": "stream",
     "text": [
      " 70%|███████   | 35/50 [19:17<08:10, 32.67s/it]"
     ]
    },
    {
     "name": "stdout",
     "output_type": "stream",
     "text": [
      "Val loss 1.229. Val acc 66.000. Took 32.718 seconds\n",
      "Epoch took 32.71811556816101\n",
      "Epoch [36]/[50]. Batch [25]/[25]. Train loss 0.013. Train acc 89.250. "
     ]
    },
    {
     "name": "stderr",
     "output_type": "stream",
     "text": [
      " 72%|███████▏  | 36/50 [19:51<07:42, 33.00s/it]"
     ]
    },
    {
     "name": "stdout",
     "output_type": "stream",
     "text": [
      "Val loss 1.226. Val acc 68.000. Took 33.782 seconds\n",
      "Epoch took 33.78225827217102\n",
      "Epoch [37]/[50]. Batch [25]/[25]. Train loss 0.012. Train acc 89.500. "
     ]
    },
    {
     "name": "stderr",
     "output_type": "stream",
     "text": [
      " 74%|███████▍  | 37/50 [20:24<07:10, 33.10s/it]"
     ]
    },
    {
     "name": "stdout",
     "output_type": "stream",
     "text": [
      "Val loss 1.181. Val acc 71.000. Took 33.328 seconds\n",
      "Epoch took 33.32829570770264\n",
      "Epoch [38]/[50]. Batch [25]/[25]. Train loss 0.012. Train acc 89.500. "
     ]
    },
    {
     "name": "stderr",
     "output_type": "stream",
     "text": [
      " 76%|███████▌  | 38/50 [20:58<06:39, 33.30s/it]"
     ]
    },
    {
     "name": "stdout",
     "output_type": "stream",
     "text": [
      "Val loss 1.318. Val acc 66.000. Took 33.757 seconds\n",
      "Epoch took 33.75652813911438\n",
      "Epoch [39]/[50]. Batch [25]/[25]. Train loss 0.012. Train acc 89.250. "
     ]
    },
    {
     "name": "stderr",
     "output_type": "stream",
     "text": [
      " 78%|███████▊  | 39/50 [21:31<06:05, 33.20s/it]"
     ]
    },
    {
     "name": "stdout",
     "output_type": "stream",
     "text": [
      "Val loss 1.186. Val acc 73.000. Took 32.977 seconds\n",
      "Epoch took 32.97717905044556\n",
      "Epoch [40]/[50]. Batch [25]/[25]. Train loss 0.012. Train acc 88.625. "
     ]
    },
    {
     "name": "stderr",
     "output_type": "stream",
     "text": [
      " 80%|████████  | 40/50 [22:04<05:31, 33.17s/it]"
     ]
    },
    {
     "name": "stdout",
     "output_type": "stream",
     "text": [
      "Val loss 1.297. Val acc 72.000. Took 33.090 seconds\n",
      "Epoch took 33.090031147003174\n",
      "Epoch [41]/[50]. Batch [25]/[25]. Train loss 0.011. Train acc 90.125. "
     ]
    },
    {
     "name": "stderr",
     "output_type": "stream",
     "text": [
      " 82%|████████▏ | 41/50 [22:37<04:58, 33.17s/it]"
     ]
    },
    {
     "name": "stdout",
     "output_type": "stream",
     "text": [
      "Val loss 1.242. Val acc 71.000. Took 33.061 seconds\n",
      "Epoch took 33.06054139137268\n",
      "Epoch [42]/[50]. Batch [25]/[25]. Train loss 0.011. Train acc 88.750. "
     ]
    },
    {
     "name": "stderr",
     "output_type": "stream",
     "text": [
      " 84%|████████▍ | 42/50 [23:11<04:26, 33.28s/it]"
     ]
    },
    {
     "name": "stdout",
     "output_type": "stream",
     "text": [
      "Val loss 1.271. Val acc 67.000. Took 33.543 seconds\n",
      "Epoch took 33.5428946018219\n",
      "Epoch [43]/[50]. Batch [25]/[25]. Train loss 0.010. Train acc 89.250. "
     ]
    },
    {
     "name": "stderr",
     "output_type": "stream",
     "text": [
      " 86%|████████▌ | 43/50 [23:45<03:54, 33.44s/it]"
     ]
    },
    {
     "name": "stdout",
     "output_type": "stream",
     "text": [
      "Val loss 1.392. Val acc 69.000. Took 33.810 seconds\n",
      "Epoch took 33.80995726585388\n",
      "Epoch [44]/[50]. Batch [25]/[25]. Train loss 0.010. Train acc 90.875. "
     ]
    },
    {
     "name": "stderr",
     "output_type": "stream",
     "text": [
      " 88%|████████▊ | 44/50 [24:18<03:20, 33.40s/it]"
     ]
    },
    {
     "name": "stdout",
     "output_type": "stream",
     "text": [
      "Val loss 1.268. Val acc 69.000. Took 33.296 seconds\n",
      "Epoch took 33.29646372795105\n",
      "Epoch [45]/[50]. Batch [25]/[25]. Train loss 0.010. Train acc 90.875. "
     ]
    },
    {
     "name": "stderr",
     "output_type": "stream",
     "text": [
      " 90%|█████████ | 45/50 [24:51<02:47, 33.42s/it]"
     ]
    },
    {
     "name": "stdout",
     "output_type": "stream",
     "text": [
      "Val loss 1.221. Val acc 67.000. Took 33.470 seconds\n",
      "Epoch took 33.46964478492737\n",
      "Epoch [46]/[50]. Batch [25]/[25]. Train loss 0.009. Train acc 91.000. "
     ]
    },
    {
     "name": "stderr",
     "output_type": "stream",
     "text": [
      " 92%|█████████▏| 46/50 [25:25<02:13, 33.44s/it]"
     ]
    },
    {
     "name": "stdout",
     "output_type": "stream",
     "text": [
      "Val loss 1.294. Val acc 72.000. Took 33.498 seconds\n",
      "Epoch took 33.49842095375061\n",
      "Epoch [47]/[50]. Batch [25]/[25]. Train loss 0.010. Train acc 86.625. "
     ]
    },
    {
     "name": "stderr",
     "output_type": "stream",
     "text": [
      " 94%|█████████▍| 47/50 [25:58<01:40, 33.41s/it]"
     ]
    },
    {
     "name": "stdout",
     "output_type": "stream",
     "text": [
      "Val loss 1.257. Val acc 68.000. Took 33.338 seconds\n",
      "Epoch took 33.33763813972473\n",
      "Epoch [48]/[50]. Batch [25]/[25]. Train loss 0.009. Train acc 89.250. "
     ]
    },
    {
     "name": "stderr",
     "output_type": "stream",
     "text": [
      " 96%|█████████▌| 48/50 [26:32<01:06, 33.42s/it]"
     ]
    },
    {
     "name": "stdout",
     "output_type": "stream",
     "text": [
      "Val loss 1.223. Val acc 70.000. Took 33.433 seconds\n",
      "Epoch took 33.432581663131714\n",
      "Epoch [49]/[50]. Batch [25]/[25]. Train loss 0.008. Train acc 91.250. "
     ]
    },
    {
     "name": "stderr",
     "output_type": "stream",
     "text": [
      " 98%|█████████▊| 49/50 [27:05<00:33, 33.43s/it]"
     ]
    },
    {
     "name": "stdout",
     "output_type": "stream",
     "text": [
      "Val loss 1.302. Val acc 69.000. Took 33.458 seconds\n",
      "Epoch took 33.457807302474976\n",
      "Epoch [50]/[50]. Batch [25]/[25]. Train loss 0.009. Train acc 89.125. "
     ]
    },
    {
     "name": "stderr",
     "output_type": "stream",
     "text": [
      "100%|██████████| 50/50 [27:38<00:00, 33.18s/it]"
     ]
    },
    {
     "name": "stdout",
     "output_type": "stream",
     "text": [
      "Val loss 1.247. Val acc 70.000. Took 33.385 seconds\n",
      "Epoch took 33.384586334228516\n"
     ]
    },
    {
     "name": "stderr",
     "output_type": "stream",
     "text": [
      "\n"
     ]
    },
    {
     "data": {
      "image/png": "[encoded data removed]",
      "text/plain": [
       "<Figure size 640x480 with 1 Axes>"
      ]
     },
     "metadata": {},
     "output_type": "display_data"
    },
    {
     "data": {
      "image/png": "[encoded data removed]",
      "text/plain": [
       "<Figure size 640x480 with 1 Axes>"
      ]
     },
     "metadata": {},
     "output_type": "display_data"
    }
   ],
   "source": [
    "print_every = 25\n",
    "num_epoch = 50\n",
    "\n",
    "resnet, train_losses, val_losses, train_accuracies, val_accuracies = train(\n",
    "    model=resnet,\n",
    "    criterion=criterion,\n",
    "    optimizer=optimizer,\n",
    "    train_dataloader=train_dataloader,\n",
    "    val_dataloader=val_dataloader,\n",
    "    print_every=print_every,\n",
    "    save_at_epoch=10,\n",
    "    num_epoch=num_epoch\n",
    ")\n",
    "\n",
    "\n",
    "plt.plot(train_losses, label='Training loss')\n",
    "plt.plot(val_losses, label='Validation loss')\n",
    "plt.legend(frameon=False)\n",
    "plt.savefig('resnet18_loss.png')\n",
    "plt.show()\n",
    "\n",
    "plt.plot(train_accuracies, label='Training accuracy')\n",
    "plt.plot(val_accuracies, label='Validation accuracy')\n",
    "plt.legend(frameon=False)\n",
    "plt.savefig('resnet18_accuracy.png')\n",
    "plt.show()"
   ]
  },
  {
   "cell_type": "code",
   "execution_count": 25,
   "metadata": {},
   "outputs": [],
   "source": [
    "checkpoint = {\n",
    "    'epoch': 50,\n",
    "    'model_state_dict': resnet.state_dict(),\n",
    "    'optimizer_state_dict': optimizer.state_dict(),\n",
    "    'train_losses': train_losses,\n",
    "    'val_losses': val_losses\n",
    "}\n",
    "torch.save(checkpoint, f'../Models/Resnet18/checkpoint_{50}.pth')\n"
   ]
  },
  {
   "cell_type": "markdown",
   "metadata": {},
   "source": [
    "### Testing"
   ]
  },
  {
   "cell_type": "code",
   "execution_count": null,
   "metadata": {},
   "outputs": [],
   "source": [
    "import torch\n",
    "from sklearn.metrics import confusion_matrix, accuracy_score\n",
    "import seaborn as sns\n",
    "import matplotlib.pyplot as plt\n",
    "\n",
    "# Assuming 'device' is already defined (e.g., 'cuda' or 'cpu')\n",
    "# Assuming 'resnet' is your trained model\n",
    "# Assuming 'genre_dict' maps indices to genre names\n",
    "\n",
    "y_test = []\n",
    "y_pred = []\n",
    "\n",
    "# Iterate through the test dataloader\n",
    "for img, label in test_dataloader:\n",
    "    img = img.to(device)\n",
    "    resnet.eval()\n",
    "    with torch.no_grad():\n",
    "        prediction = resnet(img)\n",
    "    \n",
    "    final_preds = torch.max(prediction, dim=1)[1]\n",
    "    y_test.extend(label.tolist())\n",
    "    y_pred.extend(final_preds.cpu().tolist())\n",
    "\n",
    "# Map predicted indices back to class names\n",
    "y_pred_labels = [genre_dict[pred] for pred in y_pred]\n",
    "\n",
    "# Calculate class-wise accuracy\n",
    "class_correct = list(0. for i in range(len(classes)))\n",
    "class_total = list(0. for i in range(len(classes)))\n",
    "classwise_accuracy = {}\n",
    "\n",
    "conf_matrix = confusion_matrix(y_test, y_pred)\n",
    "for i in range(len(y_test)):\n",
    "    label = y_test[i]\n",
    "    pred = y_pred[i]\n",
    "    if label == pred:\n",
    "        class_correct[label] += 1\n",
    "    class_total[label] += 1\n",
    "\n",
    "for i in range(len(classes)):\n",
    "    classwise_accuracy[genre_dict[i]] = 100 * class_correct[i] / class_total[i] if class_total[i] > 0 else 0\n",
    "\n",
    "# Print Class-wise accuracy\n",
    "for class_name, accuracy in classwise_accuracy.items():\n",
    "    print(f'Accuracy of {class_name} : {accuracy:.2f} %')\n",
    "\n",
    "# Plotting the confusion matrix\n",
    "plt.figure(figsize=(10,8))\n",
    "sns.heatmap(conf_matrix, annot=True, fmt='d', xticklabels=classes, yticklabels=classes)\n",
    "plt.ylabel('True Label')\n",
    "plt.xlabel('Predicted Label')\n",
    "plt.title('Confusion Matrix')\n",
    "plt.show()"
   ]
  },
  {
   "cell_type": "code",
   "execution_count": null,
   "metadata": {},
   "outputs": [
    {
     "name": "stdout",
     "output_type": "stream",
     "text": [
      "Accuracy: 62.62626262626262\n"
     ]
    }
   ],
   "source": [
    "print(\"Accuracy:\",(100*(np.array(y_test) == np.array(y_pred)).sum()/len(y_test)))"
   ]
  }
 ],
 "metadata": {
  "kernelspec": {
   "display_name": "MGC",
   "language": "python",
   "name": "python3"
  },
  "language_info": {
   "codemirror_mode": {
    "name": "ipython",
    "version": 3
   },
   "file_extension": ".py",
   "mimetype": "text/x-python",
   "name": "python",
   "nbconvert_exporter": "python",
   "pygments_lexer": "ipython3",
   "version": "3.8.18"
  },
  "orig_nbformat": 4
 },
 "nbformat": 4,
 "nbformat_minor": 2
}
